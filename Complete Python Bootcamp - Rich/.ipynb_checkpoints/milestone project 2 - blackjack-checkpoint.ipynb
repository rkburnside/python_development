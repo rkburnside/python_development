{
 "cells": [
  {
   "cell_type": "markdown",
   "metadata": {},
   "source": [
    "# Blackjack in Python\n",
    "----\n",
    "## To Do\n",
    "----\n",
    "- required functions:\n",
    "  - shuffle deck\n",
    "  - pick cards for each\n",
    "  - error checking to determine if the input is correct\n",
    "  - determine how much someone is going to be bet\n",
    "  - check to see if someone busts\n",
    "  - initial dealing of card\n",
    "  - determine if to hit or stand\n",
    "  - dealer will always stand at some value\n",
    "  - randomly generate a deck of cards and shuffle it\n",
    "  - determine count of a players cards\n",
    "- classes\n",
    "  - person\n",
    "    - bank credit\n",
    "    - m/f\n",
    "    - name\n",
    "    - the cards in their hand\n",
    "  - dealer\n",
    "    - ???\n",
    "  - deck of cards\n",
    "    - suits\n",
    "    - cards within suit\n",
    "    \n",
    "## Game Play\n",
    "----\n",
    "- (develop the game as 1 player, then player and dealer with all cards show, and then dealer's cards hidden)\n",
    "- display the rules of blackjack\n",
    "- determine how much someone will bet\n",
    "- suffle cards\n",
    "- deal out cards\n",
    "- dealer: show 1 card and hide the others\n",
    "- player: show all cards\n",
    "- ask if player wants to hit or stand\n",
    "- give total of player's cards\n",
    "- determine if anyone has busted\n",
    "- determine if someone has 21\n",
    "- determine if it's a tie (dealer wins???)\n",
    "- once everyone stands, determine who wins\n",
    "- keep playing???\n",
    "- card representation: ASCII art / simple text output / grid output"
   ]
  },
  {
   "cell_type": "code",
   "execution_count": 20,
   "metadata": {},
   "outputs": [],
   "source": [
    "# class for each blackjack player\n",
    "class Gambler(object):\n",
    "    def __init__(self,name='Player 1',bank=100,sex='M',hand=[0],bet=5):\n",
    "        self.name = name\n",
    "        self.bank = bank\n",
    "        self.sex = sex\n",
    "        self.hand = hand\n",
    "        self.bet = bet\n",
    "    \n",
    "    def anteUp(self):\n",
    "        self.bank -= self.bet\n",
    "               \n",
    "    def win(self):\n",
    "        self.bank += self.bet*2\n",
    "        return\n",
    "    \n",
    "    def tie(self):\n",
    "        self.bank += self.bet\n",
    "        return\n",
    "        \n",
    "x = Gambler()"
   ]
  }
 ],
 "metadata": {
  "kernelspec": {
   "display_name": "Python 3",
   "language": "python",
   "name": "python3"
  },
  "language_info": {
   "codemirror_mode": {
    "name": "ipython",
    "version": 3
   },
   "file_extension": ".py",
   "mimetype": "text/x-python",
   "name": "python",
   "nbconvert_exporter": "python",
   "pygments_lexer": "ipython3",
   "version": "3.6.1"
  }
 },
 "nbformat": 4,
 "nbformat_minor": 2
}
