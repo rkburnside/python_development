{
 "cells": [
  {
   "cell_type": "markdown",
   "metadata": {},
   "source": [
    "# Milestone Project 2 - Blackjack Game\n",
    "In this milestone project you will be creating a Complete BlackJack Card Game in Python.\n",
    "Here are the requirements:\n",
    "You need to create a simple text-based BlackJack game\n",
    "The game needs to have one player versus an automated dealer.\n",
    "The player can stand or hit.\n",
    "The player must be able to pick their betting amount.\n",
    "You need to keep track of the players total money.\n",
    "You need to alert the player of wins, losses, or busts, etc...\n",
    "And most importantly:\n",
    "You must use OOP and classes in some portion of your game. You can not just use functions in your game. Use classes to help you define the Deck and the Player's hand. There are many right ways to do this, so explore it well!\n",
    "Feel free to expand this game-try including multiple players. Try adding in Double-Down and card splits! Remember, you are free to use any resources you want and as always:\n",
    "HAVE FUN!"
   ]
  },
  {
   "cell_type": "markdown",
   "metadata": {},
   "source": [
    "# Blackjack in Python\n",
    "----\n",
    "## To Do\n",
    "----\n",
    "- required functions:\n",
    "  - pick cards for each\n",
    "  - error checking to determine if the input is correct\n",
    "  - check to see if someone busts\n",
    "  - initial dealing of card\n",
    "  - determine if to hit or stand\n",
    "  - dealer will always stand at some value\n",
    "  - randomly generate a deck of cards and shuffle it\n",
    "  - determine count of a players cards\n",
    "  - add error proofing at all user inputs\n",
    "  - add functionality to anteUp function to verify the player has sufficient funds\n",
    "  - [x] determine how much someone is going to be bet\n",
    "  - [x] test to see if the person wants to continue playing\n",
    "  - [x] shuffle deck\n",
    "- classes\n",
    "  - person\n",
    "    - [x] bank credit\n",
    "    - [x] m/f\n",
    "    - [x] name\n",
    "    - [x] the cards in their hand\n",
    "  - dealer\n",
    "    - ???\n",
    "  - deck of cards\n",
    "    - suits\n",
    "    - cards within suit\n",
    "    \n",
    "## Game Play\n",
    "----\n",
    "- (develop the game as 1 player, then player and dealer with all cards show, and then dealer's cards hidden)\n",
    "- display the rules of blackjack\n",
    "- determine how much someone will bet\n",
    "- suffle cards\n",
    "- deal out cards\n",
    "- dealer: show 1 card and hide the others\n",
    "- player: show all cards\n",
    "- ask if player wants to hit or stand\n",
    "- give total of player's cards\n",
    "- determine if anyone has busted\n",
    "- determine if someone has 21\n",
    "- determine if it's a tie (dealer wins???)\n",
    "- once everyone stands, determine who wins\n",
    "- keep playing???\n",
    "- card representation: ASCII art / simple text output / grid output"
   ]
  },
  {
   "cell_type": "code",
   "execution_count": 93,
   "metadata": {
    "collapsed": true
   },
   "outputs": [],
   "source": [
    "# modules to import\n",
    "import random\n",
    "from IPython.display import clear_output"
   ]
  },
  {
   "cell_type": "code",
   "execution_count": 101,
   "metadata": {},
   "outputs": [],
   "source": [
    "# class for each blackjack player\n",
    "class Gambler(object):\n",
    "    def __init__(self,name='Player 1',bank=100,sex='M',hand=[0],bet=5):\n",
    "        self.name = name\n",
    "        self.bank = bank\n",
    "        self.sex = sex\n",
    "        self.hand = hand\n",
    "        self.bet = bet\n",
    "    \n",
    "    def setName(self):\n",
    "        self.name = input('Enter your name: ')\n",
    "        return\n",
    "    \n",
    "    def anteUp(self):\n",
    "        self.bet = int(input('Enter your bet: '))\n",
    "        while self.bet > self.bank:\n",
    "            print('bet is too large. you have insufficient funds.')\n",
    "            self.bet = int(input('Enter your bet: '))\n",
    "        self.bank -= self.bet\n",
    "        return\n",
    "\n",
    "    # this needs to be addressed, but not tonight\n",
    "    def int_check(self):\n",
    "        while True:\n",
    "            try:\n",
    "                val = int(input(\"Please enter an integer: \"))\n",
    "            except:\n",
    "                print \"That's not a number!\"\n",
    "\n",
    "            finally:\n",
    "                print \"Finally, I executed!\"\n",
    "            print val       \n",
    "    \n",
    "    def win(self):\n",
    "        self.bank += self.bet*2\n",
    "        return\n",
    "    \n",
    "    def tie(self):\n",
    "        self.bank += self.bet\n",
    "        return\n",
    "    \n",
    "\n",
    "# class for the deck\n",
    "class Deck(object):\n",
    "    def __init__(self):\n",
    "        self.spades = ['2\\u2660','3\\u2660','4\\u2660','5\\u2660','6\\u2660','7\\u2660','8\\u2660','9\\u2660','10\\u2660','11\\u2660','12\\u2660','13\\u2660','14\\u2660']\n",
    "        self.hearts = ['2\\u2665','3\\u2665','4\\u2665','5\\u2665','6\\u2665','7\\u2665','8\\u2665','9\\u2665','10\\u2665','11\\u2665','12\\u2665','13\\u2665','14\\u2665']\n",
    "        self.diamonds = ['2\\u2666','3\\u2666','4\\u2666','5\\u2666','6\\u2666','7\\u2666','8\\u2666','9\\u2666','10\\u2666','11\\u2666','12\\u2666','13\\u2666','14\\u2666']\n",
    "        self.clubs = ['2\\u2663','3\\u2663','4\\u2663','5\\u2663','6\\u2663','7\\u2663','8\\u2663','9\\u2663','10\\u2663','11\\u2663','12\\u2663','13\\u2663','14\\u2663']\n",
    "        self.full_deck = self.spades + self.hearts + self.diamonds + self.clubs \n",
    "        return\n",
    "    \n",
    "    def shuffle(self):\n",
    "        random.shuffle(self.full_deck)\n",
    "        return\n",
    "    \n",
    "    def next_card(self):\n",
    "        return self.full_deck.pop(0)"
   ]
  },
  {
   "cell_type": "code",
   "execution_count": 102,
   "metadata": {
    "collapsed": true
   },
   "outputs": [],
   "source": [
    "# error proofing and quitting funcitons\n",
    "def keep_playing():\n",
    "    i = 1\n",
    "    while i == 1:\n",
    "        i = 0\n",
    "        continue_playing = input('Continue playing? (Y/N): ')\n",
    "        if continue_playing == 'Y':\n",
    "            return 1\n",
    "        elif continue_playing == 'N':\n",
    "            return 0\n",
    "        else:\n",
    "            print('invalid entry. enter only Y or N')\n",
    "            i = 1\n",
    "            \n"
   ]
  },
  {
   "cell_type": "code",
   "execution_count": 103,
   "metadata": {},
   "outputs": [
    {
     "name": "stdout",
     "output_type": "stream",
     "text": [
      "Welcome to the Burnside Casino. It's time for Blackjack!\n",
      "Enter your name: rich\n",
      "Enter your bet: 10\n",
      "Continue playing? (Y/N): Y\n",
      "Welcome to the Burnside Casino. It's time for Blackjack!\n",
      "Enter your name: rich\n",
      "Enter your bet: 1029\n",
      "bet is too large. you have insufficient funds.\n",
      "Enter your bet: 1929\n",
      "bet is too large. you have insufficient funds.\n",
      "Enter your bet: 10\n",
      "Continue playing? (Y/N): Y\n",
      "Welcome to the Burnside Casino. It's time for Blackjack!\n",
      "Enter your name: Rich\n",
      "Enter your bet: aljk\n"
     ]
    },
    {
     "ename": "ValueError",
     "evalue": "invalid literal for int() with base 10: 'aljk'",
     "output_type": "error",
     "traceback": [
      "\u001b[1;31m---------------------------------------------------------------------------\u001b[0m",
      "\u001b[1;31mValueError\u001b[0m                                Traceback (most recent call last)",
      "\u001b[1;32m<ipython-input-103-ec9936b35e68>\u001b[0m in \u001b[0;36m<module>\u001b[1;34m()\u001b[0m\n\u001b[0;32m      6\u001b[0m     \u001b[0mprint\u001b[0m\u001b[1;33m(\u001b[0m\u001b[1;34m'Welcome to the Burnside Casino. It\\'s time for Blackjack!'\u001b[0m\u001b[1;33m)\u001b[0m\u001b[1;33m\u001b[0m\u001b[0m\n\u001b[0;32m      7\u001b[0m     \u001b[0mplayer\u001b[0m\u001b[1;33m.\u001b[0m\u001b[0msetName\u001b[0m\u001b[1;33m(\u001b[0m\u001b[1;33m)\u001b[0m\u001b[1;33m\u001b[0m\u001b[0m\n\u001b[1;32m----> 8\u001b[1;33m     \u001b[0mplayer\u001b[0m\u001b[1;33m.\u001b[0m\u001b[0manteUp\u001b[0m\u001b[1;33m(\u001b[0m\u001b[1;33m)\u001b[0m\u001b[1;33m\u001b[0m\u001b[0m\n\u001b[0m\u001b[0;32m      9\u001b[0m \u001b[1;33m\u001b[0m\u001b[0m\n\u001b[0;32m     10\u001b[0m     \u001b[1;31m# test to see if we should continue playing\u001b[0m\u001b[1;33m\u001b[0m\u001b[1;33m\u001b[0m\u001b[0m\n",
      "\u001b[1;32m<ipython-input-101-912c7115074a>\u001b[0m in \u001b[0;36manteUp\u001b[1;34m(self)\u001b[0m\n\u001b[0;32m     13\u001b[0m \u001b[1;33m\u001b[0m\u001b[0m\n\u001b[0;32m     14\u001b[0m     \u001b[1;32mdef\u001b[0m \u001b[0manteUp\u001b[0m\u001b[1;33m(\u001b[0m\u001b[0mself\u001b[0m\u001b[1;33m)\u001b[0m\u001b[1;33m:\u001b[0m\u001b[1;33m\u001b[0m\u001b[0m\n\u001b[1;32m---> 15\u001b[1;33m         \u001b[0mself\u001b[0m\u001b[1;33m.\u001b[0m\u001b[0mbet\u001b[0m \u001b[1;33m=\u001b[0m \u001b[0mint\u001b[0m\u001b[1;33m(\u001b[0m\u001b[0minput\u001b[0m\u001b[1;33m(\u001b[0m\u001b[1;34m'Enter your bet: '\u001b[0m\u001b[1;33m)\u001b[0m\u001b[1;33m)\u001b[0m\u001b[1;33m\u001b[0m\u001b[0m\n\u001b[0m\u001b[0;32m     16\u001b[0m         \u001b[1;32mwhile\u001b[0m \u001b[0mself\u001b[0m\u001b[1;33m.\u001b[0m\u001b[0mbet\u001b[0m \u001b[1;33m>\u001b[0m \u001b[0mself\u001b[0m\u001b[1;33m.\u001b[0m\u001b[0mbank\u001b[0m\u001b[1;33m:\u001b[0m\u001b[1;33m\u001b[0m\u001b[0m\n\u001b[0;32m     17\u001b[0m             \u001b[0mprint\u001b[0m\u001b[1;33m(\u001b[0m\u001b[1;34m'bet is too large. you have insufficient funds.'\u001b[0m\u001b[1;33m)\u001b[0m\u001b[1;33m\u001b[0m\u001b[0m\n",
      "\u001b[1;31mValueError\u001b[0m: invalid literal for int() with base 10: 'aljk'"
     ]
    }
   ],
   "source": [
    "# actual loop for the program\n",
    "player = Gambler()\n",
    "cards = Deck()\n",
    "\n",
    "while 1:\n",
    "    print('Welcome to the Burnside Casino. It\\'s time for Blackjack!')\n",
    "    player.setName()\n",
    "    player.anteUp()\n",
    "    \n",
    "    # test to see if we should continue playing\n",
    "    if keep_playing() == 1:\n",
    "        continue\n",
    "    else:\n",
    "        clear_output()\n",
    "        print('thanks for playing')\n",
    "        break"
   ]
  },
  {
   "cell_type": "code",
   "execution_count": null,
   "metadata": {},
   "outputs": [],
   "source": [
    "x.name"
   ]
  },
  {
   "cell_type": "code",
   "execution_count": null,
   "metadata": {
    "collapsed": true
   },
   "outputs": [],
   "source": []
  }
 ],
 "metadata": {
  "kernelspec": {
   "display_name": "Python 3",
   "language": "python",
   "name": "python3"
  },
  "language_info": {
   "codemirror_mode": {
    "name": "ipython",
    "version": 3
   },
   "file_extension": ".py",
   "mimetype": "text/x-python",
   "name": "python",
   "nbconvert_exporter": "python",
   "pygments_lexer": "ipython3",
   "version": "3.6.1"
  }
 },
 "nbformat": 4,
 "nbformat_minor": 2
}
