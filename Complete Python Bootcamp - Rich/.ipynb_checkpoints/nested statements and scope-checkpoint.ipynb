{
 "cells": [
  {
   "cell_type": "code",
   "execution_count": 10,
   "metadata": {},
   "outputs": [
    {
     "name": "stdout",
     "output_type": "stream",
     "text": [
      "this is a global name\n",
      "hellosammy\n",
      "this is a global name\n"
     ]
    }
   ],
   "source": [
    "name = 'this is a global name'\n",
    "\n",
    "def greet(name):\n",
    "    print(name)\n",
    "    # enclosing function\n",
    "    name = 'sammy'\n",
    "    \n",
    "    def hello():\n",
    "        print('hello'+name)\n",
    "    \n",
    "    hello()\n",
    "greet(name)\n",
    "print(name)"
   ]
  },
  {
   "cell_type": "code",
   "execution_count": 4,
   "metadata": {},
   "outputs": [
    {
     "data": {
      "text/plain": [
       "<function len>"
      ]
     },
     "execution_count": 4,
     "metadata": {},
     "output_type": "execute_result"
    }
   ],
   "source": [
    "len"
   ]
  },
  {
   "cell_type": "code",
   "execution_count": 15,
   "metadata": {},
   "outputs": [
    {
     "name": "stdout",
     "output_type": "stream",
     "text": [
      "{'__name__': '__main__', '__doc__': 'Automatically created module for IPython interactive environment', '__package__': None, '__loader__': None, '__spec__': None, '__builtin__': <module 'builtins' (built-in)>, '__builtins__': <module 'builtins' (built-in)>, '_ih': ['', \"name = 'this is a global name'\\n\\ndef greet():\\n    # enclosing function\\n    name = 'sammy'\\n    \\n    def hello():\\n        print('hello'+name)\\n    \\n    hello()\\ngreet()\\nprint(name)\", \"name = 'this is a global name'\\n\\ndef greet():\\n    # enclosing function\\n    print(name)\\n    name = 'sammy'\\n    \\n    def hello():\\n        print('hello'+name)\\n    \\n    hello()\\ngreet()\\nprint(name)\", \"name = 'this is a global name'\\n\\ndef greet():\\n    # enclosing function\\n    name = 'sammy'\\n    \\n    def hello():\\n        print('hello'+name)\\n    \\n    hello()\\ngreet()\\nprint(name)\", 'len', \"name = 'this is a global name'\\n\\ndef greet(name):\\n    print('name')\\n    # enclosing function\\n    name = 'sammy'\\n    \\n    def hello():\\n        print('hello'+name)\\n    \\n    hello()\\ngreet()\\nprint(name)\", \"name = 'this is a global name'\\n\\ndef greet(name):\\n    print('name')\\n    # enclosing function\\n    name = 'sammy'\\n    \\n    def hello():\\n        print('hello'+name)\\n    \\n    hello()\\ngreet(name)\\nprint(name)\", \"name = 'this is a global name'\\n\\ndef greet(name):\\n    print(name)\\n    # enclosing function\\n    name = 'sammy'\\n    \\n    def hello():\\n        print('hello'+name)\\n    \\n    hello()\\ngreet(name)\\nprint(name)\", \"name = 'this is a global name'\\n\\ndef greet():\\n    print(name)\\n    # enclosing function\\n    name = 'sammy'\\n    \\n    def hello():\\n        print('hello'+name)\\n    \\n    hello()\\ngreet(name)\\nprint(name)\", \"name = 'this is a global name'\\n\\ndef greet(name):\\n    print(name)\\n    # enclosing function\\n    name = 'sammy'\\n    \\n    def hello():\\n        print('hello'+name)\\n    \\n    hello()\\ngreet()\\nprint(name)\", \"name = 'this is a global name'\\n\\ndef greet(name):\\n    print(name)\\n    # enclosing function\\n    name = 'sammy'\\n    \\n    def hello():\\n        print('hello'+name)\\n    \\n    hello()\\ngreet(name)\\nprint(name)\", \"x = 50\\n\\ndef fun():\\n    global x\\n    print('this function is now using the global x!')\\n    print('because of global x is: ', x)\\n    x = 2\\n    print('ran func(), changed global x to',x)\\n    \\nprint('before calling func(), x is: ', x)\\nfunc()\\nprint('value of x (outside of func()) is: ', x)\", \"x = 50\\n\\ndef func():\\n    global x\\n    print('this function is now using the global x!')\\n    print('because of global x is: ', x)\\n    x = 2\\n    print('ran func(), changed global x to',x)\\n    \\nprint('before calling func(), x is: ', x)\\nfunc()\\nprint('value of x (outside of func()) is: ', x)\", \"x = 50\\n\\ndef func():\\n    print(globals())\\n    global x\\n    print('this function is now using the global x!')\\n    print('because of global x is: ', x)\\n    x = 2\\n    print('ran func(), changed global x to',x)\\n    \\nprint('before calling func(), x is: ', x)\\nfunc()\\nprint('value of x (outside of func()) is: ', x)\", \"x = 50\\n\\ndef func():\\n    print(locals())\\n    global x\\n    print('this function is now using the global x!')\\n    print('because of global x is: ', x)\\n    x = 2\\n    print('ran func(), changed global x to',x)\\n    \\nprint('before calling func(), x is: ', x)\\nfunc()\\nprint('value of x (outside of func()) is: ', x)\", \"x = 50\\nprint(locals())\\n\\ndef func():\\n    print(locals())\\n    global x\\n    print('this function is now using the global x!')\\n    print('because of global x is: ', x)\\n    x = 2\\n    print('ran func(), changed global x to',x)\\n    \\nprint('before calling func(), x is: ', x)\\nfunc()\\nprint('value of x (outside of func()) is: ', x)\"], '_oh': {4: <built-in function len>}, '_dh': ['C:\\\\Users\\\\richa\\\\Portable Apps\\\\WinPython-64bit-3.6.1.0Qt5\\\\notebooks\\\\Python-Bootcamp_my_code'], '_sh': <module 'IPython.core.shadowns' from 'C:\\\\Users\\\\richa\\\\Portable Apps\\\\WinPython-64bit-3.6.1.0Qt5\\\\python-3.6.1.amd64\\\\lib\\\\site-packages\\\\IPython\\\\core\\\\shadowns.py'>, 'In': ['', \"name = 'this is a global name'\\n\\ndef greet():\\n    # enclosing function\\n    name = 'sammy'\\n    \\n    def hello():\\n        print('hello'+name)\\n    \\n    hello()\\ngreet()\\nprint(name)\", \"name = 'this is a global name'\\n\\ndef greet():\\n    # enclosing function\\n    print(name)\\n    name = 'sammy'\\n    \\n    def hello():\\n        print('hello'+name)\\n    \\n    hello()\\ngreet()\\nprint(name)\", \"name = 'this is a global name'\\n\\ndef greet():\\n    # enclosing function\\n    name = 'sammy'\\n    \\n    def hello():\\n        print('hello'+name)\\n    \\n    hello()\\ngreet()\\nprint(name)\", 'len', \"name = 'this is a global name'\\n\\ndef greet(name):\\n    print('name')\\n    # enclosing function\\n    name = 'sammy'\\n    \\n    def hello():\\n        print('hello'+name)\\n    \\n    hello()\\ngreet()\\nprint(name)\", \"name = 'this is a global name'\\n\\ndef greet(name):\\n    print('name')\\n    # enclosing function\\n    name = 'sammy'\\n    \\n    def hello():\\n        print('hello'+name)\\n    \\n    hello()\\ngreet(name)\\nprint(name)\", \"name = 'this is a global name'\\n\\ndef greet(name):\\n    print(name)\\n    # enclosing function\\n    name = 'sammy'\\n    \\n    def hello():\\n        print('hello'+name)\\n    \\n    hello()\\ngreet(name)\\nprint(name)\", \"name = 'this is a global name'\\n\\ndef greet():\\n    print(name)\\n    # enclosing function\\n    name = 'sammy'\\n    \\n    def hello():\\n        print('hello'+name)\\n    \\n    hello()\\ngreet(name)\\nprint(name)\", \"name = 'this is a global name'\\n\\ndef greet(name):\\n    print(name)\\n    # enclosing function\\n    name = 'sammy'\\n    \\n    def hello():\\n        print('hello'+name)\\n    \\n    hello()\\ngreet()\\nprint(name)\", \"name = 'this is a global name'\\n\\ndef greet(name):\\n    print(name)\\n    # enclosing function\\n    name = 'sammy'\\n    \\n    def hello():\\n        print('hello'+name)\\n    \\n    hello()\\ngreet(name)\\nprint(name)\", \"x = 50\\n\\ndef fun():\\n    global x\\n    print('this function is now using the global x!')\\n    print('because of global x is: ', x)\\n    x = 2\\n    print('ran func(), changed global x to',x)\\n    \\nprint('before calling func(), x is: ', x)\\nfunc()\\nprint('value of x (outside of func()) is: ', x)\", \"x = 50\\n\\ndef func():\\n    global x\\n    print('this function is now using the global x!')\\n    print('because of global x is: ', x)\\n    x = 2\\n    print('ran func(), changed global x to',x)\\n    \\nprint('before calling func(), x is: ', x)\\nfunc()\\nprint('value of x (outside of func()) is: ', x)\", \"x = 50\\n\\ndef func():\\n    print(globals())\\n    global x\\n    print('this function is now using the global x!')\\n    print('because of global x is: ', x)\\n    x = 2\\n    print('ran func(), changed global x to',x)\\n    \\nprint('before calling func(), x is: ', x)\\nfunc()\\nprint('value of x (outside of func()) is: ', x)\", \"x = 50\\n\\ndef func():\\n    print(locals())\\n    global x\\n    print('this function is now using the global x!')\\n    print('because of global x is: ', x)\\n    x = 2\\n    print('ran func(), changed global x to',x)\\n    \\nprint('before calling func(), x is: ', x)\\nfunc()\\nprint('value of x (outside of func()) is: ', x)\", \"x = 50\\nprint(locals())\\n\\ndef func():\\n    print(locals())\\n    global x\\n    print('this function is now using the global x!')\\n    print('because of global x is: ', x)\\n    x = 2\\n    print('ran func(), changed global x to',x)\\n    \\nprint('before calling func(), x is: ', x)\\nfunc()\\nprint('value of x (outside of func()) is: ', x)\"], 'Out': {4: <built-in function len>}, 'get_ipython': <bound method InteractiveShell.get_ipython of <ipykernel.zmqshell.ZMQInteractiveShell object at 0x00000216B15F5860>>, 'exit': <IPython.core.autocall.ZMQExitAutocall object at 0x00000216B16FB7F0>, 'quit': <IPython.core.autocall.ZMQExitAutocall object at 0x00000216B16FB7F0>, '_': <built-in function len>, '__': '', '___': '', '_i': \"x = 50\\n\\ndef func():\\n    print(locals())\\n    global x\\n    print('this function is now using the global x!')\\n    print('because of global x is: ', x)\\n    x = 2\\n    print('ran func(), changed global x to',x)\\n    \\nprint('before calling func(), x is: ', x)\\nfunc()\\nprint('value of x (outside of func()) is: ', x)\", '_ii': \"x = 50\\n\\ndef func():\\n    print(globals())\\n    global x\\n    print('this function is now using the global x!')\\n    print('because of global x is: ', x)\\n    x = 2\\n    print('ran func(), changed global x to',x)\\n    \\nprint('before calling func(), x is: ', x)\\nfunc()\\nprint('value of x (outside of func()) is: ', x)\", '_iii': \"x = 50\\n\\ndef func():\\n    global x\\n    print('this function is now using the global x!')\\n    print('because of global x is: ', x)\\n    x = 2\\n    print('ran func(), changed global x to',x)\\n    \\nprint('before calling func(), x is: ', x)\\nfunc()\\nprint('value of x (outside of func()) is: ', x)\", '_i1': \"name = 'this is a global name'\\n\\ndef greet():\\n    # enclosing function\\n    name = 'sammy'\\n    \\n    def hello():\\n        print('hello'+name)\\n    \\n    hello()\\ngreet()\\nprint(name)\", 'name': 'this is a global name', 'greet': <function greet at 0x00000216B2860EA0>, '_i2': \"name = 'this is a global name'\\n\\ndef greet():\\n    # enclosing function\\n    print(name)\\n    name = 'sammy'\\n    \\n    def hello():\\n        print('hello'+name)\\n    \\n    hello()\\ngreet()\\nprint(name)\", '_i3': \"name = 'this is a global name'\\n\\ndef greet():\\n    # enclosing function\\n    name = 'sammy'\\n    \\n    def hello():\\n        print('hello'+name)\\n    \\n    hello()\\ngreet()\\nprint(name)\", '_i4': 'len', '_4': <built-in function len>, '_i5': \"name = 'this is a global name'\\n\\ndef greet(name):\\n    print('name')\\n    # enclosing function\\n    name = 'sammy'\\n    \\n    def hello():\\n        print('hello'+name)\\n    \\n    hello()\\ngreet()\\nprint(name)\", '_i6': \"name = 'this is a global name'\\n\\ndef greet(name):\\n    print('name')\\n    # enclosing function\\n    name = 'sammy'\\n    \\n    def hello():\\n        print('hello'+name)\\n    \\n    hello()\\ngreet(name)\\nprint(name)\", '_i7': \"name = 'this is a global name'\\n\\ndef greet(name):\\n    print(name)\\n    # enclosing function\\n    name = 'sammy'\\n    \\n    def hello():\\n        print('hello'+name)\\n    \\n    hello()\\ngreet(name)\\nprint(name)\", '_i8': \"name = 'this is a global name'\\n\\ndef greet():\\n    print(name)\\n    # enclosing function\\n    name = 'sammy'\\n    \\n    def hello():\\n        print('hello'+name)\\n    \\n    hello()\\ngreet(name)\\nprint(name)\", '_i9': \"name = 'this is a global name'\\n\\ndef greet(name):\\n    print(name)\\n    # enclosing function\\n    name = 'sammy'\\n    \\n    def hello():\\n        print('hello'+name)\\n    \\n    hello()\\ngreet()\\nprint(name)\", '_i10': \"name = 'this is a global name'\\n\\ndef greet(name):\\n    print(name)\\n    # enclosing function\\n    name = 'sammy'\\n    \\n    def hello():\\n        print('hello'+name)\\n    \\n    hello()\\ngreet(name)\\nprint(name)\", '_i11': \"x = 50\\n\\ndef fun():\\n    global x\\n    print('this function is now using the global x!')\\n    print('because of global x is: ', x)\\n    x = 2\\n    print('ran func(), changed global x to',x)\\n    \\nprint('before calling func(), x is: ', x)\\nfunc()\\nprint('value of x (outside of func()) is: ', x)\", 'x': 50, 'fun': <function fun at 0x00000216B28171E0>, '_i12': \"x = 50\\n\\ndef func():\\n    global x\\n    print('this function is now using the global x!')\\n    print('because of global x is: ', x)\\n    x = 2\\n    print('ran func(), changed global x to',x)\\n    \\nprint('before calling func(), x is: ', x)\\nfunc()\\nprint('value of x (outside of func()) is: ', x)\", 'func': <function func at 0x00000216B28600D0>, '_i13': \"x = 50\\n\\ndef func():\\n    print(globals())\\n    global x\\n    print('this function is now using the global x!')\\n    print('because of global x is: ', x)\\n    x = 2\\n    print('ran func(), changed global x to',x)\\n    \\nprint('before calling func(), x is: ', x)\\nfunc()\\nprint('value of x (outside of func()) is: ', x)\", '_i14': \"x = 50\\n\\ndef func():\\n    print(locals())\\n    global x\\n    print('this function is now using the global x!')\\n    print('because of global x is: ', x)\\n    x = 2\\n    print('ran func(), changed global x to',x)\\n    \\nprint('before calling func(), x is: ', x)\\nfunc()\\nprint('value of x (outside of func()) is: ', x)\", '_i15': \"x = 50\\nprint(locals())\\n\\ndef func():\\n    print(locals())\\n    global x\\n    print('this function is now using the global x!')\\n    print('because of global x is: ', x)\\n    x = 2\\n    print('ran func(), changed global x to',x)\\n    \\nprint('before calling func(), x is: ', x)\\nfunc()\\nprint('value of x (outside of func()) is: ', x)\"}\n",
      "before calling func(), x is:  50\n",
      "{}\n",
      "this function is now using the global x!\n",
      "because of global x is:  50\n",
      "ran func(), changed global x to 2\n",
      "value of x (outside of func()) is:  2\n"
     ]
    }
   ],
   "source": [
    "x = 50\n",
    "print(locals())\n",
    "\n",
    "def func():\n",
    "    print(locals())\n",
    "    global x\n",
    "    print('this function is now using the global x!')\n",
    "    print('because of global x is: ', x)\n",
    "    x = 2\n",
    "    print('ran func(), changed global x to',x)\n",
    "    \n",
    "print('before calling func(), x is: ', x)\n",
    "func()\n",
    "print('value of x (outside of func()) is: ', x)"
   ]
  },
  {
   "cell_type": "code",
   "execution_count": 16,
   "metadata": {},
   "outputs": [
    {
     "data": {
      "text/plain": [
       "4188.666666666666"
      ]
     },
     "execution_count": 16,
     "metadata": {},
     "output_type": "execute_result"
    }
   ],
   "source": [
    "radius = 10\n",
    "def sphere_volume(rads):\n",
    "    return 4/3*3.1415*rads**3\n",
    "sphere_volume(radius)"
   ]
  },
  {
   "cell_type": "code",
   "execution_count": 17,
   "metadata": {},
   "outputs": [
    {
     "data": {
      "text/plain": [
       "4188.666666666666"
      ]
     },
     "execution_count": 17,
     "metadata": {},
     "output_type": "execute_result"
    }
   ],
   "source": [
    "sphere_volume = lambda rads: 4/3*3.1415*rads**3\n",
    "sphere_volume(radius)"
   ]
  },
  {
   "cell_type": "code",
   "execution_count": 20,
   "metadata": {},
   "outputs": [
    {
     "data": {
      "text/plain": [
       "True"
      ]
     },
     "execution_count": 20,
     "metadata": {},
     "output_type": "execute_result"
    }
   ],
   "source": [
    "# function that checks if a number is in a given range\n",
    "def ran_check(num,low,high):\n",
    "    if num>low and num<high:\n",
    "        return True\n",
    "    else:\n",
    "        return False\n",
    "ran_check(3,2,5)"
   ]
  },
  {
   "cell_type": "code",
   "execution_count": 27,
   "metadata": {},
   "outputs": [
    {
     "data": {
      "text/plain": [
       "False"
      ]
     },
     "execution_count": 27,
     "metadata": {},
     "output_type": "execute_result"
    }
   ],
   "source": [
    "# function that checks if a number is in a given range\n",
    "cool = lambda num,low,high: num>low and num<high\n",
    "cool(6,2,5)"
   ]
  },
  {
   "cell_type": "code",
   "execution_count": 47,
   "metadata": {},
   "outputs": [
    {
     "name": "stdout",
     "output_type": "stream",
     "text": [
      "30\n",
      "5\n"
     ]
    }
   ],
   "source": [
    "s = 'this HAS some Upper and Lower case letters'\n",
    "l = 0\n",
    "u = 0\n",
    "for i in s:\n",
    "    if i.isupper():\n",
    "        u+=1\n",
    "    elif i.islower():\n",
    "        l+=1\n",
    "    else:\n",
    "        pass\n",
    "print(l)\n",
    "print(u)"
   ]
  },
  {
   "cell_type": "code",
   "execution_count": 49,
   "metadata": {},
   "outputs": [
    {
     "name": "stdout",
     "output_type": "stream",
     "text": [
      "Sample String:\n",
      "Hello Mr. Rogers, how are you this fine Tuesday?\n",
      "Expected Output:\n",
      "No. of Upper case characters: 4\n",
      "No. of Lower case characters: 33\n"
     ]
    }
   ],
   "source": [
    "s = 'Hello Mr. Rogers, how are you this fine Tuesday?'\n",
    "\n",
    "def up_low(s):\n",
    "    l = 0\n",
    "    u = 0\n",
    "    for i in s:\n",
    "        if i.isupper():\n",
    "            u+=1\n",
    "        elif i.islower():\n",
    "            l+=1\n",
    "        else:\n",
    "            pass\n",
    "    \n",
    "    print('Sample String:')\n",
    "    print(s)\n",
    "    print('Expected Output:')\n",
    "    print('No. of Upper case characters:', u)\n",
    "    print('No. of Lower case characters:', l)\n",
    "    \n",
    "up_low(s)"
   ]
  },
  {
   "cell_type": "code",
   "execution_count": null,
   "metadata": {
    "collapsed": true
   },
   "outputs": [],
   "source": []
  }
 ],
 "metadata": {
  "kernelspec": {
   "display_name": "Python 3",
   "language": "python",
   "name": "python3"
  },
  "language_info": {
   "codemirror_mode": {
    "name": "ipython",
    "version": 3
   },
   "file_extension": ".py",
   "mimetype": "text/x-python",
   "name": "python",
   "nbconvert_exporter": "python",
   "pygments_lexer": "ipython3",
   "version": "3.6.1"
  }
 },
 "nbformat": 4,
 "nbformat_minor": 2
}
