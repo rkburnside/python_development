{
 "cells": [
  {
   "cell_type": "markdown",
   "metadata": {},
   "source": [
    "class Circle(object):\n",
    "    # class object attributes\n",
    "    pi = 3.1415\n",
    "    \n",
    "    def __init__(self,radius=1):\n",
    "        self.radius = radius\n",
    "    \n",
    "    def area(self):\n",
    "        return self.radius**2 * Circle.pi\n",
    "    \n",
    "    def set_radius(self,new_radius):\n",
    "        self.radius = new_radius\n",
    "        \n",
    "    def get_radius(self):\n",
    "        return self.radius\n",
    "        \n",
    "    pass"
   ]
  },
  {
   "cell_type": "code",
   "execution_count": 48,
   "metadata": {},
   "outputs": [],
   "source": [
    "class Circle(object):\n",
    "    # class attribute\n",
    "    pi=3.1415\n",
    "    \n",
    "    # instance attributes\n",
    "    def __init__(self,radius=1,perimeter=1):\n",
    "        self.radius = radius\n",
    "        self.perimeter = perimeter\n",
    "    \n",
    "    # methods\n",
    "    def area(self):\n",
    "        return self.radius**2 * Circle.pi\n",
    "    \n",
    "    def setRadius(self,newRadius):\n",
    "        self.radius = newRadius\n",
    "        \n",
    "    def getRadius(self):\n",
    "        return self.radius\n",
    "    \n",
    "    def getPerimeter(self):\n",
    "        return 2*Circle.pi*self.radius\n",
    "    \n",
    "    def setPerimeter(self):\n",
    "        self.perimeter = self.getPerimeter()\n",
    "    \n",
    "    pass\n",
    "\n",
    "c = Circle(radius=123)"
   ]
  },
  {
   "cell_type": "code",
   "execution_count": 55,
   "metadata": {},
   "outputs": [],
   "source": [
    "c.pi\n",
    "c.radius\n",
    "c.area()\n",
    "c.setRadius(119)\n",
    "c.radius\n",
    "c.getRadius()\n",
    "c.setPerimeter()"
   ]
  },
  {
   "cell_type": "code",
   "execution_count": 60,
   "metadata": {},
   "outputs": [],
   "source": [
    "c.setRadius(5)"
   ]
  },
  {
   "cell_type": "code",
   "execution_count": 61,
   "metadata": {},
   "outputs": [
    {
     "data": {
      "text/plain": [
       "31.415000000000003"
      ]
     },
     "execution_count": 61,
     "metadata": {},
     "output_type": "execute_result"
    }
   ],
   "source": [
    "c.getPerimeter()"
   ]
  },
  {
   "cell_type": "code",
   "execution_count": null,
   "metadata": {
    "collapsed": true
   },
   "outputs": [],
   "source": []
  }
 ],
 "metadata": {
  "kernelspec": {
   "display_name": "Python 3",
   "language": "python",
   "name": "python3"
  },
  "language_info": {
   "codemirror_mode": {
    "name": "ipython",
    "version": 3
   },
   "file_extension": ".py",
   "mimetype": "text/x-python",
   "name": "python",
   "nbconvert_exporter": "python",
   "pygments_lexer": "ipython3",
   "version": "3.6.1"
  }
 },
 "nbformat": 4,
 "nbformat_minor": 2
}
