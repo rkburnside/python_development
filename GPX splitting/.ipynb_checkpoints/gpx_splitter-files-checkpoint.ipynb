{
 "cells": [
  {
   "cell_type": "markdown",
   "metadata": {},
   "source": [
    "# first iteration\n",
    "- [x] read in the first line of a file\n",
    "- [x] if it matches the needed criteria, count it\n",
    "- [x] if not, pass\n",
    "- [x] also, write EACH line to another file\n",
    "- [x] once the count reaches a number, add the necessary tags and close both files\n",
    "- [x] end the program\n",
    "\n",
    "# second iteration\n",
    "- [] create functions for everything AND TEST THEM!\n",
    "- [] read in the first line of a file\n",
    "- [] if it matches the needed criteria, count it\n",
    "- [] if not, pass\n",
    "- [] also, write EACH line to another file\n",
    "- [] once the count reaches 300, close the file and create a new file with the necessary GPX tags\n",
    "- [] continue until the EOF is reached\n",
    "- [] close it out with the correct tags\n",
    "- [] create bounds for the file (first and last gps waypoints)"
   ]
  },
  {
   "cell_type": "code",
   "execution_count": 115,
   "metadata": {},
   "outputs": [],
   "source": [
    "# variables\n",
    "filename = 'CDT_2017_track.gpx'\n",
    "wp_counter = 0\n",
    "wp_counter_limit = 1000\n",
    "file_counter = 0\n",
    "f = open(filename,'r')\n",
    "o = open('output_' + str(file_counter) + '.gpx', 'w+')\n",
    "comparison_text = '</trkpt>\\n'\n",
    "previous_line = 'stuff'"
   ]
  },
  {
   "cell_type": "code",
   "execution_count": 116,
   "metadata": {},
   "outputs": [],
   "source": [
    "# insert EOF information for a GPX file\n",
    "# create a strung variable that has everything needed and return it\n",
    "# it needs to have this at the end of each file:\n",
    "# </trkpt>\\n</trkseg>\\n</trk>\\n</gpx>\n",
    "def file_tags(flag):\n",
    "    if flag == 'BOF':\n",
    "        return '<?xml version=\"1.0\" ?>\\n<gpx creator=\"GaiaGPS\" version=\"1.1\" xmlns=\"http://www.topografix.com/GPX/1/1\" xmlns:xsi=\"http://www.w3.org/2001/XMLSchema-instance\" xsi:schemaLocation=\"http://www.topografix.com/GPX/1/1 http://www.topografix.com/GPX/1/1/gpx.xsd\">\\n<trk>\\n<name>CDT Upload Track ' + str(file_counter) + '</name>\\n<desc>\\n</desc>\\n<trkseg>\\n'\n",
    "    elif flag == 'EOF':\n",
    "        return '</trkseg>\\n</trk>\\n</gpx>\\n'\n",
    "    else:\n",
    "        return 'fail'"
   ]
  },
  {
   "cell_type": "code",
   "execution_count": 117,
   "metadata": {},
   "outputs": [],
   "source": [
    "# method for reading the next line and compare it to some text\n",
    "def line_compare(f_next_line):\n",
    "    if f_next_line == comparison_text:\n",
    "        return 'true'\n",
    "    elif f_next_line == '':\n",
    "        return 'EOF'\n",
    "    else:\n",
    "        return 'false'"
   ]
  },
  {
   "cell_type": "code",
   "execution_count": 118,
   "metadata": {},
   "outputs": [],
   "source": [
    "# function to increment to a new file and close the previous file\n",
    "# get file name and save it as a variable\n",
    "# close the file\n",
    "# increment the file counter\n",
    "# open a new file\n",
    "# return the new file object\n",
    "\n",
    "def close_out_file(out_file):\n",
    "    out_file.write(file_tags('EOF'))\n",
    "    out_file.close()\n",
    "    return"
   ]
  },
  {
   "cell_type": "code",
   "execution_count": 119,
   "metadata": {},
   "outputs": [],
   "source": [
    "def create_and_increment_file():\n",
    "    # create and open the new output file\n",
    "    global file_counter\n",
    "    file_counter += 1\n",
    "    output_file_name = 'output_' + str(file_counter) + '.gpx'\n",
    "    out_file = open(output_file_name, 'w+')\n",
    "    out_file.write(file_tags('BOF'))\n",
    "\n",
    "    return out_file"
   ]
  },
  {
   "cell_type": "code",
   "execution_count": 120,
   "metadata": {},
   "outputs": [],
   "source": [
    "def previous_line_test(previous_line):\n",
    "    if previous_line != '</gpx>\\n':\n",
    "        o.write('</gpx>')\n",
    "    return"
   ]
  },
  {
   "cell_type": "code",
   "execution_count": 121,
   "metadata": {},
   "outputs": [],
   "source": [
    "# while the waypoint counter is less than the waypoint limit, do the following\n",
    "# get the next line\n",
    "# write a new line to the output file\n",
    "# save the previous line variable for testing at the end of the program\n",
    "# compare the new line to the comparison text\n",
    "# evaulate the results: true = increment wp_counter, EOL breaks out of while loop and ends program, false does nothing\n",
    "# check to see if the wp_limit has been reached\n",
    "# if reached, close old, open new file AND reset the wp_counter to 0\n",
    "\n",
    "while wp_counter < wp_counter_limit:\n",
    "    f_string = f.readline()\n",
    "    o.write(f_string)\n",
    "    previous_line = f_string\n",
    "    compare_result = line_compare(f_string)\n",
    "\n",
    "    if compare_result == 'true':\n",
    "        wp_counter += 1\n",
    "    elif compare_result == 'EOF':\n",
    "        break\n",
    "    \n",
    "    if wp_counter == (wp_counter_limit-1):\n",
    "        close_out_file(o)\n",
    "        o = create_and_increment_file()\n",
    "        wp_counter = 0"
   ]
  },
  {
   "cell_type": "code",
   "execution_count": 122,
   "metadata": {},
   "outputs": [],
   "source": [
    "o.close()\n",
    "f.close()"
   ]
  }
 ],
 "metadata": {
  "kernelspec": {
   "display_name": "Python 3",
   "language": "python",
   "name": "python3"
  },
  "language_info": {
   "codemirror_mode": {
    "name": "ipython",
    "version": 3
   },
   "file_extension": ".py",
   "mimetype": "text/x-python",
   "name": "python",
   "nbconvert_exporter": "python",
   "pygments_lexer": "ipython3",
   "version": "3.6.5"
  }
 },
 "nbformat": 4,
 "nbformat_minor": 2
}
