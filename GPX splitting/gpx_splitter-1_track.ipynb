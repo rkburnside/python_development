{
 "cells": [
  {
   "cell_type": "markdown",
   "metadata": {},
   "source": [
    "# first iteration\n",
    "- set up variables -> input gpx file name\n",
    "- set the wp_counter_limit -> 1000 ~ 100 miles, 500 ~ 50 miles, 100 ~ 10 miles, 50 ~ 5 miles\n",
    "- run all cells"
   ]
  },
  {
   "cell_type": "code",
   "execution_count": 31,
   "metadata": {},
   "outputs": [],
   "source": [
    "# variables\n",
    "filename = 'CDT_2017_track.gpx'\n",
    "wp_counter_limit = 50\n",
    "wp_counter = 0\n",
    "file_counter = 0\n",
    "f = open(filename,'r')\n",
    "o = open('output.gpx', 'w+')\n",
    "comparison_text = '</trkpt>\\n'"
   ]
  },
  {
   "cell_type": "code",
   "execution_count": 32,
   "metadata": {},
   "outputs": [],
   "source": [
    "# insert EOF information for a GPX file\n",
    "# create a strung variable that has everything needed and return it\n",
    "# it needs to have this at the end of each file:\n",
    "# </trkpt>\\n</trkseg>\\n</trk>\\n</gpx>\n",
    "def file_tags(flag):\n",
    "    global file_counter\n",
    "    if flag == 'BOF':\n",
    "        return '<?xml version=\"1.0\" ?>\\n<gpx creator=\"GaiaGPS\" version=\"1.1\" xmlns=\"http://www.topografix.com/GPX/1/1\" xmlns:xsi=\"http://www.w3.org/2001/XMLSchema-instance\" xsi:schemaLocation=\"http://www.topografix.com/GPX/1/1 http://www.topografix.com/GPX/1/1/gpx.xsd\">\\n<trk>\\n<name>CDT Upload Track ' + str(file_counter) + '</name>\\n<desc>\\n</desc>\\n<trkseg>\\n'\n",
    "    elif flag == 'NT':\n",
    "        if len(str(file_counter)) == 1:\n",
    "            return '</trkseg>\\n</trk>\\n<trk>\\n<name>CDT Upload Track 00' + str(file_counter) + '</name>\\n<desc></desc>\\n<trkseg>\\n'\n",
    "        elif len(str(file_counter)) == 2:\n",
    "            return '</trkseg>\\n</trk>\\n<trk>\\n<name>CDT Upload Track 0' + str(file_counter) + '</name>\\n<desc></desc>\\n<trkseg>\\n'\n",
    "        else:\n",
    "            return '</trkseg>\\n</trk>\\n<trk>\\n<name>CDT Upload Track ' + str(file_counter) + '</name>\\n<desc></desc>\\n<trkseg>\\n'\n",
    "    elif flag == 'EOF':\n",
    "        return '</trkseg>\\n</trk>\\n</gpx>\\n'\n",
    "    else:\n",
    "        return 'fail'"
   ]
  },
  {
   "cell_type": "code",
   "execution_count": 33,
   "metadata": {},
   "outputs": [],
   "source": [
    "# method for reading the next line and compare it to some text\n",
    "def line_compare(f_next_line):\n",
    "    if f_next_line == comparison_text:\n",
    "        return 'true'\n",
    "    elif f_next_line == '':\n",
    "        return 'EOF'\n",
    "    else:\n",
    "        return 'false'"
   ]
  },
  {
   "cell_type": "code",
   "execution_count": 34,
   "metadata": {},
   "outputs": [],
   "source": [
    "# function to increment to a new file and close the previous file\n",
    "# get file name and save it as a variable\n",
    "# close the file\n",
    "# increment the file counter\n",
    "# open a new file\n",
    "# return the new file object\n",
    "\n",
    "def new_track(out_file):\n",
    "    out_file.write(file_tags('NT'))\n",
    "    return out_file"
   ]
  },
  {
   "cell_type": "code",
   "execution_count": 35,
   "metadata": {},
   "outputs": [],
   "source": [
    "# while the waypoint counter is less than the waypoint limit, do the following\n",
    "# get the next line\n",
    "# write a new line to the output file\n",
    "# save the previous line variable for testing at the end of the program\n",
    "# compare the new line to the comparison text\n",
    "# evaulate the results: true = increment wp_counter, EOL breaks out of while loop and ends program, false does nothing\n",
    "# check to see if the wp_limit has been reached\n",
    "# if reached, close old, open new file AND reset the wp_counter to 0\n",
    "\n",
    "while wp_counter < wp_counter_limit:\n",
    "    f_string = f.readline()\n",
    "    o.write(f_string)\n",
    "    compare_result = line_compare(f_string)\n",
    "\n",
    "    if compare_result == 'true':\n",
    "        wp_counter += 1\n",
    "    elif compare_result == 'EOF':\n",
    "        break\n",
    "    \n",
    "    if wp_counter == (wp_counter_limit-1):\n",
    "        file_counter += 1\n",
    "        o = new_track(o)\n",
    "        wp_counter = 0"
   ]
  },
  {
   "cell_type": "code",
   "execution_count": 36,
   "metadata": {},
   "outputs": [],
   "source": [
    "o.close()\n",
    "f.close()"
   ]
  }
 ],
 "metadata": {
  "kernelspec": {
   "display_name": "Python 3",
   "language": "python",
   "name": "python3"
  },
  "language_info": {
   "codemirror_mode": {
    "name": "ipython",
    "version": 3
   },
   "file_extension": ".py",
   "mimetype": "text/x-python",
   "name": "python",
   "nbconvert_exporter": "python",
   "pygments_lexer": "ipython3",
   "version": "3.6.5"
  }
 },
 "nbformat": 4,
 "nbformat_minor": 2
}
