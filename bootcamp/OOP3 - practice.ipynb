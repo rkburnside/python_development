{
 "cells": [
  {
   "cell_type": "code",
   "execution_count": 50,
   "metadata": {},
   "outputs": [],
   "source": [
    "import math\n",
    "class Trig_Equations(object):\n",
    "    # trig functions\n",
    "    \n",
    "    def __init__(self,a=1,b=1,c=1):\n",
    "        self.a = a\n",
    "        self.b = b\n",
    "        self.c = c\n",
    "        return\n",
    "    \n",
    "    #methods\n",
    "    def hypotenuse(self):\n",
    "        self.c = math.sqrt(self.a**2+self.b**2)\n",
    "        return self.c\n",
    "    \n",
    "    def change_a(self,new_a):\n",
    "        self.a = new_a\n",
    "        return\n",
    "    \n",
    "    def change_b(self,new_b):\n",
    "        self.b = new_b\n",
    "        return\n",
    "    \n",
    "    def change_c(self,new_c):\n",
    "        self.c = new_c\n",
    "        self.a = math.sqrt(.5)*self.c\n",
    "        self.b = self.a\n",
    "        return\n",
    "    \n",
    "    pass\n",
    "\n",
    "trig = Trig_Equations()"
   ]
  },
  {
   "cell_type": "code",
   "execution_count": 51,
   "metadata": {
    "scrolled": true
   },
   "outputs": [
    {
     "name": "stdout",
     "output_type": "stream",
     "text": [
      "1\n",
      "1\n",
      "1\n",
      "1.4142135623730951\n",
      "3\n",
      "4\n",
      "1.4142135623730951\n",
      "5.0\n",
      "6.3639610306789285\n",
      "6.3639610306789285\n",
      "9\n"
     ]
    }
   ],
   "source": [
    "print(trig.a)\n",
    "print(trig.b)\n",
    "print(trig.c)\n",
    "print(trig.hypotenuse())\n",
    "trig.change_a(3)\n",
    "trig.change_b(4)\n",
    "print(trig.a)\n",
    "print(trig.b)\n",
    "print(trig.c)\n",
    "print(trig.hypotenuse())\n",
    "trig.change_c(9)\n",
    "print(trig.a)\n",
    "print(trig.b)\n",
    "print(trig.c)\n"
   ]
  },
  {
   "cell_type": "code",
   "execution_count": 37,
   "metadata": {},
   "outputs": [
    {
     "name": "stdout",
     "output_type": "stream",
     "text": [
      "None\n"
     ]
    }
   ],
   "source": [
    "print(trig.change_c(5))"
   ]
  },
  {
   "cell_type": "code",
   "execution_count": null,
   "metadata": {
    "collapsed": true
   },
   "outputs": [],
   "source": []
  }
 ],
 "metadata": {
  "kernelspec": {
   "display_name": "Python 3",
   "language": "python",
   "name": "python3"
  },
  "language_info": {
   "codemirror_mode": {
    "name": "ipython",
    "version": 3
   },
   "file_extension": ".py",
   "mimetype": "text/x-python",
   "name": "python",
   "nbconvert_exporter": "python",
   "pygments_lexer": "ipython3",
   "version": "3.5.3"
  }
 },
 "nbformat": 4,
 "nbformat_minor": 2
}
