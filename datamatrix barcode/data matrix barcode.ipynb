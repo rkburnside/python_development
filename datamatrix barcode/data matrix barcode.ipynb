{
 "cells": [
  {
   "cell_type": "code",
   "execution_count": 2,
   "metadata": {
    "collapsed": true
   },
   "outputs": [],
   "source": [
    "import sys"
   ]
  },
  {
   "cell_type": "code",
   "execution_count": 3,
   "metadata": {
    "collapsed": false
   },
   "outputs": [
    {
     "name": "stdout",
     "output_type": "stream",
     "text": [
      "Collecting pyStrich\n",
      "  Downloading https://files.pythonhosted.org/packages/a6/e1/76feba239737895214b5066177f6e01055083632b49312c271b1b2936f9e/pyStrich-0.8.tar.gz (981kB)\n",
      "Requirement already satisfied: Pillow in c:\\programdata\\anaconda3\\lib\\site-packages (from pyStrich)\n",
      "Collecting olefile (from Pillow->pyStrich)\n",
      "  Downloading https://files.pythonhosted.org/packages/d3/8a/e0f0e56d6a542dd987f9290ef7b5164636ee597ce8c2932c19c78292d5ec/olefile-0.45.1.zip (112kB)\n",
      "Building wheels for collected packages: pyStrich, olefile\n",
      "  Running setup.py bdist_wheel for pyStrich: started\n",
      "  Running setup.py bdist_wheel for pyStrich: finished with status 'done'\n",
      "  Stored in directory: C:\\Users\\richa\\AppData\\Local\\pip\\Cache\\wheels\\e7\\be\\0c\\8fe0bd5d5163e625d2904f676b7fd6456f63f5907115a244a7\n",
      "  Running setup.py bdist_wheel for olefile: started\n",
      "  Running setup.py bdist_wheel for olefile: finished with status 'done'\n",
      "  Stored in directory: C:\\Users\\richa\\AppData\\Local\\pip\\Cache\\wheels\\dd\\c5\\34\\b60edd3f8a0b5efd99ed392faacff6027ea37e27bbdd6949dd\n",
      "Successfully built pyStrich olefile\n",
      "Installing collected packages: pyStrich, olefile\n",
      "Successfully installed olefile-0.45.1 pyStrich-0.8\n"
     ]
    },
    {
     "name": "stderr",
     "output_type": "stream",
     "text": [
      "You are using pip version 9.0.1, however version 10.0.1 is available.\n",
      "You should consider upgrading via the 'python -m pip install --upgrade pip' command.\n"
     ]
    }
   ],
   "source": [
    "!{sys.executable} -m pip install pyStrich"
   ]
  },
  {
   "cell_type": "code",
   "execution_count": 4,
   "metadata": {
    "collapsed": false
   },
   "outputs": [
    {
     "ename": "NameError",
     "evalue": "name '__file__' is not defined",
     "output_type": "error",
     "traceback": [
      "\u001b[0;31m---------------------------------------------------------------------------\u001b[0m",
      "\u001b[0;31mNameError\u001b[0m                                 Traceback (most recent call last)",
      "\u001b[0;32m<ipython-input-4-8f4e8c24d1f5>\u001b[0m in \u001b[0;36m<module>\u001b[0;34m()\u001b[0m\n\u001b[1;32m      6\u001b[0m \u001b[1;32mimport\u001b[0m \u001b[0mlogging\u001b[0m\u001b[1;33m\u001b[0m\u001b[0m\n\u001b[1;32m      7\u001b[0m \u001b[1;32mimport\u001b[0m \u001b[0mos\u001b[0m\u001b[1;33m.\u001b[0m\u001b[0mpath\u001b[0m\u001b[1;33m\u001b[0m\u001b[0m\n\u001b[0;32m----> 8\u001b[0;31m \u001b[0msys\u001b[0m\u001b[1;33m.\u001b[0m\u001b[0mpath\u001b[0m\u001b[1;33m.\u001b[0m\u001b[0mappend\u001b[0m\u001b[1;33m(\u001b[0m\u001b[0mos\u001b[0m\u001b[1;33m.\u001b[0m\u001b[0mpath\u001b[0m\u001b[1;33m.\u001b[0m\u001b[0mjoin\u001b[0m\u001b[1;33m(\u001b[0m\u001b[0mos\u001b[0m\u001b[1;33m.\u001b[0m\u001b[0mpath\u001b[0m\u001b[1;33m.\u001b[0m\u001b[0mdirname\u001b[0m\u001b[1;33m(\u001b[0m\u001b[0mos\u001b[0m\u001b[1;33m.\u001b[0m\u001b[0mpath\u001b[0m\u001b[1;33m.\u001b[0m\u001b[0mrealpath\u001b[0m\u001b[1;33m(\u001b[0m\u001b[0m__file__\u001b[0m\u001b[1;33m)\u001b[0m\u001b[1;33m)\u001b[0m\u001b[1;33m,\u001b[0m \u001b[0mos\u001b[0m\u001b[1;33m.\u001b[0m\u001b[0mpardir\u001b[0m\u001b[1;33m)\u001b[0m\u001b[1;33m)\u001b[0m\u001b[1;33m\u001b[0m\u001b[0m\n\u001b[0m\u001b[1;32m      9\u001b[0m \u001b[1;33m\u001b[0m\u001b[0m\n\u001b[1;32m     10\u001b[0m \u001b[0mlogging\u001b[0m\u001b[1;33m.\u001b[0m\u001b[0mgetLogger\u001b[0m\u001b[1;33m(\u001b[0m\u001b[1;34m\"datamatrix\"\u001b[0m\u001b[1;33m)\u001b[0m\u001b[1;33m.\u001b[0m\u001b[0msetLevel\u001b[0m\u001b[1;33m(\u001b[0m\u001b[0mlogging\u001b[0m\u001b[1;33m.\u001b[0m\u001b[0mDEBUG\u001b[0m\u001b[1;33m)\u001b[0m\u001b[1;33m\u001b[0m\u001b[0m\n",
      "\u001b[0;31mNameError\u001b[0m: name '__file__' is not defined"
     ]
    }
   ],
   "source": [
    "\"\"\"Example code for datamatrix library\"\"\"\n",
    "__revision__ = \"$Revision$\"\n",
    "\n",
    "from pystrich.datamatrix import DataMatrixEncoder\n",
    "import sys\n",
    "import logging\n",
    "import os.path\n",
    "sys.path.append(os.path.join(os.path.dirname(os.path.realpath(__file__)), os.pardir))\n",
    "\n",
    "logging.getLogger(\"datamatrix\").setLevel(logging.DEBUG)\n",
    "logging.getLogger(\"datamatrix\").addHandler(logging.StreamHandler(sys.stdout))\n",
    "\n",
    "if __name__ == \"__main__\":\n",
    "    encoder = DataMatrixEncoder(sys.argv[1])\n",
    "    encoder.save(\"test.png\")\n",
    "    print(encoder.get_ascii())\n",
    "    with open(\"test.dxf\", \"w\") as text_file:\n",
    "        text_file.write(encoder.get_dxf(inverse=True, cellsize=0.1))\n"
   ]
  },
  {
   "cell_type": "code",
   "execution_count": 5,
   "metadata": {
    "collapsed": true
   },
   "outputs": [],
   "source": [
    "from pystrich.datamatrix import DataMatrixEncoder"
   ]
  },
  {
   "cell_type": "code",
   "execution_count": 6,
   "metadata": {
    "collapsed": true
   },
   "outputs": [],
   "source": [
    "import sys"
   ]
  },
  {
   "cell_type": "code",
   "execution_count": 7,
   "metadata": {
    "collapsed": true
   },
   "outputs": [],
   "source": [
    "import logging"
   ]
  },
  {
   "cell_type": "code",
   "execution_count": 8,
   "metadata": {
    "collapsed": true
   },
   "outputs": [],
   "source": [
    "import os.path"
   ]
  },
  {
   "cell_type": "code",
   "execution_count": 9,
   "metadata": {
    "collapsed": false
   },
   "outputs": [
    {
     "ename": "NameError",
     "evalue": "name '__file__' is not defined",
     "output_type": "error",
     "traceback": [
      "\u001b[0;31m---------------------------------------------------------------------------\u001b[0m",
      "\u001b[0;31mNameError\u001b[0m                                 Traceback (most recent call last)",
      "\u001b[0;32m<ipython-input-9-8891cf2a8bdf>\u001b[0m in \u001b[0;36m<module>\u001b[0;34m()\u001b[0m\n\u001b[0;32m----> 1\u001b[0;31m \u001b[0msys\u001b[0m\u001b[1;33m.\u001b[0m\u001b[0mpath\u001b[0m\u001b[1;33m.\u001b[0m\u001b[0mappend\u001b[0m\u001b[1;33m(\u001b[0m\u001b[0mos\u001b[0m\u001b[1;33m.\u001b[0m\u001b[0mpath\u001b[0m\u001b[1;33m.\u001b[0m\u001b[0mjoin\u001b[0m\u001b[1;33m(\u001b[0m\u001b[0mos\u001b[0m\u001b[1;33m.\u001b[0m\u001b[0mpath\u001b[0m\u001b[1;33m.\u001b[0m\u001b[0mdirname\u001b[0m\u001b[1;33m(\u001b[0m\u001b[0mos\u001b[0m\u001b[1;33m.\u001b[0m\u001b[0mpath\u001b[0m\u001b[1;33m.\u001b[0m\u001b[0mrealpath\u001b[0m\u001b[1;33m(\u001b[0m\u001b[0m__file__\u001b[0m\u001b[1;33m)\u001b[0m\u001b[1;33m)\u001b[0m\u001b[1;33m,\u001b[0m \u001b[0mos\u001b[0m\u001b[1;33m.\u001b[0m\u001b[0mpardir\u001b[0m\u001b[1;33m)\u001b[0m\u001b[1;33m)\u001b[0m\u001b[1;33m\u001b[0m\u001b[0m\n\u001b[0m",
      "\u001b[0;31mNameError\u001b[0m: name '__file__' is not defined"
     ]
    }
   ],
   "source": [
    "sys.path.append(os.path.join(os.path.dirname(os.path.realpath(__file__)), os.pardir))"
   ]
  },
  {
   "cell_type": "code",
   "execution_count": 10,
   "metadata": {
    "collapsed": true
   },
   "outputs": [],
   "source": [
    "logging.getLogger(\"datamatrix\").setLevel(logging.DEBUG)"
   ]
  },
  {
   "cell_type": "code",
   "execution_count": 11,
   "metadata": {
    "collapsed": true
   },
   "outputs": [],
   "source": [
    "logging.getLogger(\"datamatrix\").addHandler(logging.StreamHandler(sys.stdout))"
   ]
  },
  {
   "cell_type": "code",
   "execution_count": 12,
   "metadata": {
    "collapsed": false
   },
   "outputs": [
    {
     "name": "stdout",
     "output_type": "stream",
     "text": [
      "ascii:   \"-\" ==> 46\n",
      "ascii:   \"f\" ==> 103\n",
      "Unpadded data size:   2 bytes\n",
      "Pad size: 1 bytes\n",
      "Word size after padding: 3 bytes\n",
      "Error word length: 5 bytes\n",
      "Codewords: 46 103 129 170 17 74 248 46\n",
      "Matrix size will be 8\n",
      "                            \n",
      "                            \n",
      "    XX  XX  XX  XX  XX      \n",
      "    XX  XX    XXXX  XXXX    \n",
      "    XXXX          XX        \n",
      "    XXXXXXXX  XX      XX    \n",
      "    XXXX  XX    XXXX        \n",
      "    XX      XX    XXXXXX    \n",
      "    XXXX  XX  XX  XXXX      \n",
      "    XXXXXXXX  XXXX  XXXX    \n",
      "    XX          XX          \n",
      "    XXXXXXXXXXXXXXXXXXXX    \n",
      "                            \n",
      "                            \n",
      "\n"
     ]
    },
    {
     "ename": "AttributeError",
     "evalue": "'DataMatrixEncoder' object has no attribute 'get_dxf'",
     "output_type": "error",
     "traceback": [
      "\u001b[0;31m---------------------------------------------------------------------------\u001b[0m",
      "\u001b[0;31mAttributeError\u001b[0m                            Traceback (most recent call last)",
      "\u001b[0;32m<ipython-input-12-bfa38aeaee7e>\u001b[0m in \u001b[0;36m<module>\u001b[0;34m()\u001b[0m\n\u001b[1;32m      4\u001b[0m     \u001b[0mprint\u001b[0m\u001b[1;33m(\u001b[0m\u001b[0mencoder\u001b[0m\u001b[1;33m.\u001b[0m\u001b[0mget_ascii\u001b[0m\u001b[1;33m(\u001b[0m\u001b[1;33m)\u001b[0m\u001b[1;33m)\u001b[0m\u001b[1;33m\u001b[0m\u001b[0m\n\u001b[1;32m      5\u001b[0m     \u001b[1;32mwith\u001b[0m \u001b[0mopen\u001b[0m\u001b[1;33m(\u001b[0m\u001b[1;34m\"test.dxf\"\u001b[0m\u001b[1;33m,\u001b[0m \u001b[1;34m\"w\"\u001b[0m\u001b[1;33m)\u001b[0m \u001b[1;32mas\u001b[0m \u001b[0mtext_file\u001b[0m\u001b[1;33m:\u001b[0m\u001b[1;33m\u001b[0m\u001b[0m\n\u001b[0;32m----> 6\u001b[0;31m         \u001b[0mtext_file\u001b[0m\u001b[1;33m.\u001b[0m\u001b[0mwrite\u001b[0m\u001b[1;33m(\u001b[0m\u001b[0mencoder\u001b[0m\u001b[1;33m.\u001b[0m\u001b[0mget_dxf\u001b[0m\u001b[1;33m(\u001b[0m\u001b[0minverse\u001b[0m\u001b[1;33m=\u001b[0m\u001b[1;32mTrue\u001b[0m\u001b[1;33m,\u001b[0m \u001b[0mcellsize\u001b[0m\u001b[1;33m=\u001b[0m\u001b[1;36m0.1\u001b[0m\u001b[1;33m)\u001b[0m\u001b[1;33m)\u001b[0m\u001b[1;33m\u001b[0m\u001b[0m\n\u001b[0m",
      "\u001b[0;31mAttributeError\u001b[0m: 'DataMatrixEncoder' object has no attribute 'get_dxf'"
     ]
    }
   ],
   "source": [
    "if __name__ == \"__main__\":\n",
    "    encoder = DataMatrixEncoder(sys.argv[1])\n",
    "    encoder.save(\"test.png\")\n",
    "    print(encoder.get_ascii())\n",
    "    with open(\"test.dxf\", \"w\") as text_file:\n",
    "        text_file.write(encoder.get_dxf(inverse=True, cellsize=0.1))"
   ]
  },
  {
   "cell_type": "code",
   "execution_count": 14,
   "metadata": {
    "collapsed": false
   },
   "outputs": [
    {
     "name": "stdout",
     "output_type": "stream",
     "text": [
      "ascii:   \"T\" ==> 85\n",
      "ascii:   \"h\" ==> 105\n",
      "ascii:   \"i\" ==> 106\n",
      "ascii:   \"s\" ==> 116\n",
      "ascii:   \" \" ==> 33\n",
      "ascii:   \"i\" ==> 106\n",
      "ascii:   \"s\" ==> 116\n",
      "ascii:   \" \" ==> 33\n",
      "ascii:   \"a\" ==> 98\n",
      "ascii:   \" \" ==> 33\n",
      "ascii:   \"D\" ==> 69\n",
      "ascii:   \"a\" ==> 98\n",
      "ascii:   \"t\" ==> 117\n",
      "ascii:   \"a\" ==> 98\n",
      "ascii:   \"M\" ==> 78\n",
      "ascii:   \"a\" ==> 98\n",
      "ascii:   \"t\" ==> 117\n",
      "ascii:   \"r\" ==> 115\n",
      "ascii:   \"i\" ==> 106\n",
      "ascii:   \"x\" ==> 121\n",
      "ascii:   \".\" ==> 47\n",
      "Unpadded data size:   21 bytes\n",
      "Pad size: 1 bytes\n",
      "Word size after padding: 22 bytes\n",
      "Error word length: 18 bytes\n",
      "Codewords: 85 105 106 116 33 106 116 33 98 33 69 98 117 98 78 98 117 115 106 121 47 129 184 210 67 89 228 224 4 157 190 90 216 105 92 51 255 126 181 147\n",
      "Matrix size will be 18\n",
      "                                                \n",
      "                                                \n",
      "    XX  XX  XX  XX  XX  XX  XX  XX  XX  XX      \n",
      "    XX  XX  XX  XXXX    XX  XX      XX  XXXX    \n",
      "    XXXX  XX    XX    XXXX    XXXXXX    XX      \n",
      "    XX    XXXX      XXXX  XXXX        XX  XX    \n",
      "    XX    XX    XXXX      XX  XX                \n",
      "    XXXXXX  XX  XX  XX  XXXX  XXXXXX    XXXX    \n",
      "    XXXX  XX          XXXX  XXXX    XX  XX      \n",
      "    XXXX      XX  XXXXXX  XXXX        XXXXXX    \n",
      "    XX    XX      XX  XXXXXX    XX  XX  XX      \n",
      "    XX  XX    XXXX  XX  XXXX    XXXXXX    XX    \n",
      "    XXXX      XX  XX    XXXX  XXXXXX  XX        \n",
      "    XX  XX  XXXXXX  XX    XX  XXXX  XX    XX    \n",
      "    XX          XX      XXXX  XX  XXXXXXXX      \n",
      "    XXXXXX  XXXXXX  XXXX  XXXXXXXXXXXX    XX    \n",
      "    XX  XXXXXX  XX    XX      XXXXXXXX          \n",
      "    XX    XX    XX  XX  XX    XXXXXXXXXX  XX    \n",
      "    XX  XXXXXXXX  XX    XXXXXX  XX  XX  XX      \n",
      "    XX  XX        XXXX  XX  XXXX  XX      XX    \n",
      "    XXXX  XX  XXXX    XX      XX  XXXX          \n",
      "    XXXXXXXXXXXXXXXXXXXXXXXXXXXXXXXXXXXXXXXX    \n",
      "                                                \n",
      "                                                \n",
      "\n"
     ]
    }
   ],
   "source": [
    "from pystrich.datamatrix import DataMatrixEncoder\n",
    "encoder = DataMatrixEncoder(\"This is a DataMatrix.\")\n",
    "encoder.save( \"datamatrix_test.png\" )\n",
    "print(encoder.get_ascii())"
   ]
  },
  {
   "cell_type": "code",
   "execution_count": 33,
   "metadata": {
    "collapsed": false
   },
   "outputs": [],
   "source": [
    "from PIL import Image\n",
    "from PIL import ImageFont\n",
    "from PIL import ImageDraw"
   ]
  },
  {
   "cell_type": "code",
   "execution_count": 49,
   "metadata": {
    "collapsed": false
   },
   "outputs": [],
   "source": [
    "img = Image.open('datamatrix_test.png')\n",
    "width, height = img.size\n",
    "msg = \"sample text\"\n",
    "w,h = draw.textsize(msg)\n",
    "draw = ImageDraw.Draw(img)\n",
    "draw.text((((width-w)/2),(height-h)),msg)\n",
    "img.show()"
   ]
  },
  {
   "cell_type": "code",
   "execution_count": null,
   "metadata": {
    "collapsed": true
   },
   "outputs": [],
   "source": []
  }
 ],
 "metadata": {
  "kernelspec": {
   "display_name": "Python 3",
   "language": "python",
   "name": "python3"
  },
  "language_info": {
   "codemirror_mode": {
    "name": "ipython",
    "version": 3
   },
   "file_extension": ".py",
   "mimetype": "text/x-python",
   "name": "python",
   "nbconvert_exporter": "python",
   "pygments_lexer": "ipython3",
   "version": "3.6.0"
  }
 },
 "nbformat": 4,
 "nbformat_minor": 2
}
