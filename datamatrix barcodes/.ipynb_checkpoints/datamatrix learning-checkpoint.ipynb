{
 "cells": [
  {
   "cell_type": "markdown",
   "metadata": {},
   "source": [
    "import sys\n",
    "!{sys.executable} -m pip install pyStrich"
   ]
  },
  {
   "cell_type": "code",
   "execution_count": 4,
   "metadata": {},
   "outputs": [],
   "source": [
    "part_num = 'ASM-00192-00'\n",
    "serial_start = '01921'\n",
    "number_to_create = 100"
   ]
  },
  {
   "cell_type": "code",
   "execution_count": null,
   "metadata": {
    "collapsed": true
   },
   "outputs": [],
   "source": []
  },
  {
   "cell_type": "code",
   "execution_count": 1,
   "metadata": {},
   "outputs": [
    {
     "name": "stdout",
     "output_type": "stream",
     "text": [
      "                                                \n",
      "                                                \n",
      "    XX  XX  XX  XX  XX  XX  XX  XX  XX  XX      \n",
      "    XX  XX  XX  XXXX    XX  XX      XX  XXXX    \n",
      "    XXXX  XX    XX    XXXX    XXXXXX    XX      \n",
      "    XX    XXXX      XXXX  XXXX        XX  XX    \n",
      "    XX    XX    XXXX      XX  XX                \n",
      "    XXXXXX  XX  XX  XX  XXXX  XXXXXX    XXXX    \n",
      "    XXXX  XX          XXXX  XXXX    XX  XX      \n",
      "    XXXX      XX  XXXXXX  XXXX        XXXXXX    \n",
      "    XX    XX      XX  XXXXXX    XX  XX  XX      \n",
      "    XX  XX    XXXX  XX  XXXX    XXXXXX    XX    \n",
      "    XXXX      XX  XX    XXXX  XXXXXX  XX        \n",
      "    XX  XX  XXXXXX  XX    XX  XXXX  XX    XX    \n",
      "    XX          XX      XXXX  XX  XXXXXXXX      \n",
      "    XXXXXX  XXXXXX  XXXX  XXXXXXXXXXXX    XX    \n",
      "    XX  XXXXXX  XX    XX      XXXXXXXX          \n",
      "    XX    XX    XX  XX  XX    XXXXXXXXXX  XX    \n",
      "    XX  XXXXXXXX  XX    XXXXXX  XX  XX  XX      \n",
      "    XX  XX        XXXX  XX  XXXX  XX      XX    \n",
      "    XXXX  XX  XXXX    XX      XX  XXXX          \n",
      "    XXXXXXXXXXXXXXXXXXXXXXXXXXXXXXXXXXXXXXXX    \n",
      "                                                \n",
      "                                                \n",
      "\n"
     ]
    }
   ],
   "source": [
    "from pystrich.datamatrix import DataMatrixEncoder\n",
    "encoder = DataMatrixEncoder(\"This is a DataMatrix.\")\n",
    "encoder.save( \"datamatrix_test.png\" )\n",
    "print(encoder.get_ascii())"
   ]
  },
  {
   "cell_type": "code",
   "execution_count": 2,
   "metadata": {},
   "outputs": [],
   "source": [
    "from PIL import Image\n",
    "from PIL import ImageFont\n",
    "from PIL import ImageDraw\n",
    "img = Image.open('datamatrix_test.png')\n",
    "width, height = img.size\n",
    "msg = \"sample text\"\n",
    "draw = ImageDraw.Draw(img)\n",
    "w, h = draw.textsize(msg)\n",
    "draw.text((((width-w)/2),(height-h)),msg)\n",
    "img.show()"
   ]
  },
  {
   "cell_type": "code",
   "execution_count": null,
   "metadata": {
    "collapsed": true
   },
   "outputs": [],
   "source": []
  }
 ],
 "metadata": {
  "kernelspec": {
   "display_name": "Python 3",
   "language": "python",
   "name": "python3"
  },
  "language_info": {
   "codemirror_mode": {
    "name": "ipython",
    "version": 3
   },
   "file_extension": ".py",
   "mimetype": "text/x-python",
   "name": "python",
   "nbconvert_exporter": "python",
   "pygments_lexer": "ipython3",
   "version": "3.6.1"
  }
 },
 "nbformat": 4,
 "nbformat_minor": 2
}
