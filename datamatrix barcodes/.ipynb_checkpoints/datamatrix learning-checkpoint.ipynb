{
 "cells": [
  {
   "cell_type": "markdown",
   "metadata": {},
   "source": [
    "# datamatrix barcodes"
   ]
  },
  {
   "cell_type": "markdown",
   "metadata": {},
   "source": [
    "this is a module to create a datamatrix barcode\n",
    "here are a few webistes used to create this:\n",
    "- https://github.com/mmulqueen/pyStrich\n",
    "- https://stackoverflow.com/questions/16373425/add-text-on-image-using-pil\n",
    "- https://stackoverflow.com/questions/1970807/center-middle-align-text-with-pil\n",
    "- https://pillow.readthedocs.io/en/5.1.x/reference/ImageDraw.html"
   ]
  },
  {
   "cell_type": "markdown",
   "metadata": {},
   "source": [
    "## arm barcodes work to be done\n",
    "- [ ] add necessary codes and text for barcodes\n",
    "- [ ] add text to the bottom of the barcode\n",
    "- [ ] ensure the text at the bottom has correct leading zeros\n",
    "- [ ] format that text so it is large enough and readable\n",
    "- [ ] center the text\n",
    "- [ ] remove the boarder from the barcode (probably just top and sides)\n",
    "- [ ] invert the image to be white on black\n",
    "- [ ] add code to name and save the image\n",
    "- [ ] resize the image to fit within a 1/2\" circle\n",
    "- [ ] a 1/2\" circle could be drawn on the image to ensure it fits\n",
    "- [ ] create a loop to create all of the barcodes necessary\n",
    "- [ ] find out how to combine all of the images into rows and columns\n",
    "- [ ] create loop to combine some images to a certain width\n",
    "- [ ] create loop to combine some images to a certain height\n",
    "- [ ] check to ensure it's not too wide and tall, correct for that\n",
    "- [ ] create silhouette template for cutting everything out\n",
    "- [ ] do test prints on the laser printer to ensure it looks good\n",
    "- [ ] test the template to ensure it work\n",
    "- [ ] clean everything up to ensure the techs can use it easily\n",
    "\n",
    "## payload barcodes work to be done\n",
    "- [ ] reuse the code above\n",
    "- [ ] create barcode with necessary codes imbedded\n",
    "- [ ] put necessary text to the right\n",
    "- [ ] get lockheed logo and add/overlay it on image\n",
    "- [ ] format the text to look nice\n",
    "- [ ] resize the image to fit on the handcontrollers\n",
    "- [ ] do test prints on the laser printer to ensure it looks good\n",
    "- [ ] test the template to ensure it work\n",
    "- [ ] clean everything up to ensure the techs can use it easily\n"
   ]
  },
  {
   "cell_type": "markdown",
   "metadata": {},
   "source": [
    "# this is only needed the first time to install the necessary libraries\n",
    "import sys\n",
    "!{sys.executable} -m pip install pyStrich"
   ]
  },
  {
   "cell_type": "markdown",
   "metadata": {},
   "source": [
    "## insert the necessary information to create barcodes below"
   ]
  },
  {
   "cell_type": "code",
   "execution_count": 24,
   "metadata": {
    "collapsed": true
   },
   "outputs": [],
   "source": [
    "part_number = 'replace this with part number' # replace the part number (i.e. ASM-00180-00)\n",
    "starting_serial_number = 12358    # insert the serial number. DO NOT USE A LEADING ZERO (i.e. 1928 not 01928)\n",
    "serial_numbers_to_create = 100\n",
    "\n",
    "# select from the menu above: Cell -> Run All"
   ]
  },
  {
   "cell_type": "markdown",
   "metadata": {},
   "source": [
    "print(len(str(serial_start)))\n",
    "print(type(serial_start))\n",
    "print('0'+str(serial_start))"
   ]
  },
  {
   "cell_type": "code",
   "execution_count": 25,
   "metadata": {
    "collapsed": true
   },
   "outputs": [],
   "source": [
    "# import all the necessary libraries to make the script work\n",
    "from pystrich.datamatrix import DataMatrixEncoder\n",
    "from PIL import Image\n",
    "from PIL import ImageFont\n",
    "from PIL import ImageDraw"
   ]
  },
  {
   "cell_type": "code",
   "execution_count": 40,
   "metadata": {},
   "outputs": [],
   "source": [
    "output = part_number + str(starting_serial_number) + str(serial_numbers_to_create)\n",
    "encoder = DataMatrixEncoder(output)\n",
    "encoder.save(\"datamatrix_test.png\")\n",
    "# print(encoder.get_ascii())"
   ]
  },
  {
   "cell_type": "code",
   "execution_count": 43,
   "metadata": {},
   "outputs": [],
   "source": [
    "img = Image.open('datamatrix_test.png')\n",
    "width, height = img.size\n",
    "msg = \"sample text\"\n",
    "draw = ImageDraw.Draw(img)\n",
    "w, h = draw.textsize('0'+str(starting_serial_number))\n",
    "draw.text((((width-w)/2),(height-h)),'0'+str(starting_serial_number))\n",
    "img.show()"
   ]
  },
  {
   "cell_type": "code",
   "execution_count": null,
   "metadata": {
    "collapsed": true
   },
   "outputs": [],
   "source": []
  }
 ],
 "metadata": {
  "kernelspec": {
   "display_name": "Python 3",
   "language": "python",
   "name": "python3"
  },
  "language_info": {
   "codemirror_mode": {
    "name": "ipython",
    "version": 3
   },
   "file_extension": ".py",
   "mimetype": "text/x-python",
   "name": "python",
   "nbconvert_exporter": "python",
   "pygments_lexer": "ipython3",
   "version": "3.6.1"
  }
 },
 "nbformat": 4,
 "nbformat_minor": 2
}
