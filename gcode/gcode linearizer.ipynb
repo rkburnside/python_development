{
 "cells": [
  {
   "cell_type": "markdown",
   "metadata": {},
   "source": [
    "# purpose:\n",
    "this code is intended to modify gcode to work better on a CNC etch a sketch. it'll have 2 purposes:\n",
    "1. linearize all arcs. it'll do this because GRBL seems to throw a lot of arc errors.\n",
    "2. add backlash correction to the code. this is the most important part. the etch a sketch has a lot of internal backlash that can't be corrected. this code will identify when a direction change is made and correct for the backlash of that direction. "
   ]
  },
  {
   "cell_type": "markdown",
   "metadata": {},
   "source": [
    "# features to develop\n",
    "## linearize\n",
    "- learn how to and then calculate an arc using a predefined precision (i.e. 1mm, .1mm, etc.)\n",
    "- output the code\n",
    "- identify when an arc is called in the gcode\n",
    "- parse and add all of the arc paramters to variables\n"
   ]
  }
 ],
 "metadata": {
  "kernelspec": {
   "display_name": "Python 3",
   "language": "python",
   "name": "python3"
  },
  "language_info": {
   "codemirror_mode": {
    "name": "ipython",
    "version": 3
   },
   "file_extension": ".py",
   "mimetype": "text/x-python",
   "name": "python",
   "nbconvert_exporter": "python",
   "pygments_lexer": "ipython3",
   "version": "3.7.3"
  }
 },
 "nbformat": 4,
 "nbformat_minor": 4
}
