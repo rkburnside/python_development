{
 "cells": [
  {
   "cell_type": "code",
   "execution_count": null,
   "metadata": {},
   "outputs": [],
   "source": []
  },
  {
   "cell_type": "raw",
   "metadata": {},
   "source": [
    "import requests\n",
    "\n",
    "x = requests.get('https://w3schools.com')\n",
    "print(x.status_code)\n",
    "\n",
    "\n",
    "https://script.google.com/macros/s/AKfycbw20RFT00S8lI4qJ1rdhFmoagSiIUdMmtR_Gqzy658Z0sORxR7p/exec?device=bme280&location=basement&temperature=74.28&humidity=32.1039&pressure=38.1413&altitude=2381.41\n"
   ]
  },
  {
   "cell_type": "code",
   "execution_count": 2,
   "metadata": {},
   "outputs": [
    {
     "name": "stdout",
     "output_type": "stream",
     "text": [
      "200\n"
     ]
    }
   ],
   "source": [
    "import requests\n",
    "\n",
    "x = urequests.get('https://script.google.com/macros/s/AKfycbw20RFT00S8lI4qJ1rdhFmoagSiIUdMmtR_Gqzy658Z0sORxR7p/exec?device=bme280&location=basement&temperature=74.28&humidity=32.1039&pressure=38.1413&altitude=2381.41')\n",
    "print(x.status_code)"
   ]
  },
  {
   "cell_type": "raw",
   "metadata": {},
   "source": [
    "\n",
    "mbedtls_ssl_handshake error: -71\n",
    "Traceback (most recent call last):\n",
    "  File \"<stdin>\", line 1, in <module>\n",
    "  File \"urequests.py\", line 108, in get\n",
    "  File \"urequests.py\", line 60, in request\n",
    "OSError: [Errno 5] EIO\n",
    ">>> \n",
    "    "
   ]
  },
  {
   "cell_type": "code",
   "execution_count": 4,
   "metadata": {},
   "outputs": [
    {
     "name": "stdout",
     "output_type": "stream",
     "text": [
      "hello\n",
      "hello\n",
      "hello\n",
      "hello\n",
      "hello\n",
      "hello\n",
      "hello\n",
      "hello\n",
      "hello\n",
      "hello\n"
     ]
    }
   ],
   "source": [
    "for x in range(10):\n",
    "    print('hello')"
   ]
  },
  {
   "cell_type": "code",
   "execution_count": null,
   "metadata": {},
   "outputs": [],
   "source": []
  }
 ],
 "metadata": {
  "kernelspec": {
   "display_name": "Python 3",
   "language": "python",
   "name": "python3"
  },
  "language_info": {
   "codemirror_mode": {
    "name": "ipython",
    "version": 3
   },
   "file_extension": ".py",
   "mimetype": "text/x-python",
   "name": "python",
   "nbconvert_exporter": "python",
   "pygments_lexer": "ipython3",
   "version": "3.8.2"
  }
 },
 "nbformat": 4,
 "nbformat_minor": 4
}
