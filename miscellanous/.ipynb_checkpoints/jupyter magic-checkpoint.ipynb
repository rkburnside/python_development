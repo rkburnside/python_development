{
 "cells": [
  {
   "cell_type": "markdown",
   "metadata": {},
   "source": [
    "## miscellaneous\n",
    "run a cell: shift enter \n",
    "show what kernels are running: http://localhost:8888/tree#running\n",
    "\n",
    "## magic commands\n",
    "* https://ipython.readthedocs.io/en/stable/interactive/magics.html\n",
    "* https://www.tutorialspoint.com/jupyter/ipython_magic_commands.htm\n",
    "* https://www.dataquest.io/blog/jupyter-notebook-tips-tricks-shortcuts/\n",
    "* %automagic - Magic functions are callable without having to type the initial % if set to 1. Without arguments it toggles on/off. To deactivate, set to 0.\n",
    "* current directory: %cd\n",
    "* python working directory: %pwd\n",
    "* environmental variables: %env\n",
    "* all magic functions: %lsmagic\n",
    "* matplotlib inline: %matplotlib inline\n",
    "* precision: %precision 3 -> limits precision to 3 significant figures\n",
    "* populate with matplotlib and numpy: %pylab\n",
    "* %recall\n",
    "run a python script in a cell: %run\n",
    "* time to run a command: %time sum(range(1000000))\n",
    "* similar to time (line or cell): %timeit\n",
    "* print all interactive variables: %who -> add type int or float for thos variables\n",
    "\n",
    "## keyboard shortcuts\n",
    "* A insert cell above\n",
    "* B insert cell below\n",
    "* M markdown\n",
    "* Y code\n",
    "* R raw\n",
    "* D + D delete cell\n",
    "* X cut cell\n",
    "* Ctrl + Shift + -  split cell\n",
    "* Shift + J  join cells\n",
    "* ALT multicursor supprt\n",
    "\n",
    "* access function documentation: ? -> ?str.replace()\n",
    "There are many options for generating plots in your notebooks.\n",
    "* %matplotlib inline\n",
    "* %matplotlib --list (a different rendering engine can be used)\n",
    "Here’s a Dataquest Matplotlib Tutorial.\n",
    "%matplotlib notebook provides interactivity but can be a little slow, since rendering is done server-side.\n",
    "Seaborn is built over Matplotlib and makes building more attractive plots easier. Just by importing Seaborn, your matplotlib plots are made ‘prettier’ without any code modification.\n",
    "mpld3 provides alternative renderer (using d3) for matplotlib code. Quite nice, though incomplete.\n",
    "bokeh is a better option for building interactive plots.\n",
    "plot.ly can generate nice plots – this used to be a paid service only but was recently open sourced.\n",
    "Altair is a relatively new declarative visualization library for Python. It’s easy to use and makes great looking plots, however the ability to customize those plots is not nearly as powerful as in Matplotlib."
   ]
  }
 ],
 "metadata": {
  "kernelspec": {
   "display_name": "Python 3",
   "language": "python",
   "name": "python3"
  },
  "language_info": {
   "codemirror_mode": {
    "name": "ipython",
    "version": 3
   },
   "file_extension": ".py",
   "mimetype": "text/x-python",
   "name": "python",
   "nbconvert_exporter": "python",
   "pygments_lexer": "ipython3",
   "version": "3.7.0"
  }
 },
 "nbformat": 4,
 "nbformat_minor": 2
}
