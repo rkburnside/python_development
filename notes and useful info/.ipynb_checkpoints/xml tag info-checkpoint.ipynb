{
 "cells": [
  {
   "cell_type": "markdown",
   "metadata": {},
   "source": [
    "# ATP XML Data Extraction\n",
    "***\n",
    "- this script will parse an ATP file for EMHF V1. This can easily be modified for EMHF V2 at some point."
   ]
  },
  {
   "cell_type": "markdown",
   "metadata": {},
   "source": [
    "### XML data tag"
   ]
  },
  {
   "cell_type": "raw",
   "metadata": {},
   "source": [
    "<ATPTest>\n",
    "  <TestSteps>\n",
    "    <Step name=\"NVM Program.\" result=\"Pass\" type=\"NVM Programming\">\n",
    "      <Axis1 result=\"Pass\">\n",
    "        <parameter name=\"Initial NVM Offsets\" units=\"deg\">-3.1750</parameter>\n",
    "\n",
    "root = ATPTest\n",
    "root[0] = <Element 'TestSteps' at 0x000002982872C1D8>\n",
    "root[0].tag = TestSteps\n",
    "root[0][0].tag = Step\n",
    "root[0][0].attrib = {'name': 'NVM Program.', 'result': 'Pass', 'type': 'NVM Programming'}\n",
    "root[0][0].attrib['name'] = NVM Program\n",
    "root[0][0][0].tag = Axis1\n",
    "root[0][0][0][0].text = -3.1750"
   ]
  },
  {
   "cell_type": "markdown",
   "metadata": {},
   "source": [
    "## methods for finding info:"
   ]
  },
  {
   "cell_type": "raw",
   "metadata": {},
   "source": [
    "for attribute in tree.iter():\n",
    "    print(attribute.tag, attribute.attrib)\n",
    "\n",
    "tree(path='TestSteps/Step/Axis1/parameter[@name=\"Initial NVM Offsets\"]'):\n",
    "\n",
    "for elem in tree.iterfind(path='TestSteps/Step/Axis1/parameter[@name=\"Initial NVM Offsets\"]'): #fyi, this is an XPATH\n",
    "    print(elem.tag, elem.text)\n",
    "\n",
    "print(root)"
   ]
  },
  {
   "cell_type": "markdown",
   "metadata": {},
   "source": [
    "## the following methods might be used to get full path info"
   ]
  },
  {
   "cell_type": "raw",
   "metadata": {},
   "source": [
    "from os import listdir, getcwd\n",
    "cwd = getcwd()\n",
    "print(cwd)\n",
    "print(listdir(cwd+'\\\\data'),'\\n')\n",
    "#cwd+'\\\\data\\\\'"
   ]
  }
 ],
 "metadata": {
  "kernelspec": {
   "display_name": "Python 3",
   "language": "python",
   "name": "python3"
  },
  "language_info": {
   "codemirror_mode": {
    "name": "ipython",
    "version": 3
   },
   "file_extension": ".py",
   "mimetype": "text/x-python",
   "name": "python",
   "nbconvert_exporter": "python",
   "pygments_lexer": "ipython3",
   "version": "3.7.0"
  }
 },
 "nbformat": 4,
 "nbformat_minor": 2
}
