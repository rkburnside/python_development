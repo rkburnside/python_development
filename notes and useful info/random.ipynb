{
 "cells": [
  {
   "cell_type": "code",
   "execution_count": 1,
   "metadata": {},
   "outputs": [
    {
     "name": "stdout",
     "output_type": "stream",
     "text": [
      "2019-04-22 16:05:37.319170\n"
     ]
    }
   ],
   "source": [
    "import datetime\n",
    "print(datetime.datetime.now())"
   ]
  },
  {
   "cell_type": "code",
   "execution_count": 5,
   "metadata": {},
   "outputs": [
    {
     "name": "stdout",
     "output_type": "stream",
     "text": [
      "2019-04-22 16:06:49.245163\n",
      "0.2495254\n",
      "2019-04-22 16:07:06.355637\n"
     ]
    }
   ],
   "source": [
    "print(datetime.datetime.now())\n",
    "import random\n",
    "\n",
    "x = 0\n",
    "\n",
    "for i in range(10000000):\n",
    "    RN = random.randint(1,5)\n",
    "    if RN == 1 or RN == 2:\n",
    "        RN2 = random.randint(2,5)\n",
    "    if RN2 == 2:\n",
    "        x += 1\n",
    "\n",
    "x1 = float(x)\n",
    "print(x1/10000000.0)\n",
    "#I run that in python and it takes a couple of seconds.  in VBA it takes .5 seconds.\n",
    "print(datetime.datetime.now())"
   ]
  },
  {
   "cell_type": "code",
   "execution_count": null,
   "metadata": {},
   "outputs": [],
   "source": []
  }
 ],
 "metadata": {
  "kernelspec": {
   "display_name": "Python 3",
   "language": "python",
   "name": "python3"
  },
  "language_info": {
   "codemirror_mode": {
    "name": "ipython",
    "version": 3
   },
   "file_extension": ".py",
   "mimetype": "text/x-python",
   "name": "python",
   "nbconvert_exporter": "python",
   "pygments_lexer": "ipython3",
   "version": "3.7.0"
  }
 },
 "nbformat": 4,
 "nbformat_minor": 2
}
