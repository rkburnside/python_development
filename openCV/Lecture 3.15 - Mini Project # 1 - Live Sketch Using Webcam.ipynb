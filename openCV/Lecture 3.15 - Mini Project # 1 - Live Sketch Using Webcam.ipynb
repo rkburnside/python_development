{
 "cells": [
  {
   "cell_type": "markdown",
   "metadata": {},
   "source": [
    "## Mini Project # 1 - Live Sketch Using Webcam"
   ]
  },
  {
   "cell_type": "markdown",
   "metadata": {},
   "source": [
    "- use dialation and growth to get better lines"
   ]
  },
  {
   "cell_type": "code",
   "execution_count": 1,
   "metadata": {},
   "outputs": [],
   "source": [
    "import cv2\n",
    "import numpy as np\n",
    "from matplotlib import pyplot as plt"
   ]
  },
  {
   "cell_type": "code",
   "execution_count": 17,
   "metadata": {},
   "outputs": [],
   "source": [
    "# Our sketch generating function\n",
    "def sketch(image, min_value, max_value, threshold, blur):\n",
    "   \n",
    "    # Convert image to grayscale\n",
    "    image = cv2.cvtColor(image, cv2.COLOR_BGR2GRAY)\n",
    "\n",
    "    # Clean up image using Guassian Blur, blur requires the bluring to be 0 or odd num\n",
    "    if blur % 2 == 0:\n",
    "        blur += 1     \n",
    "    image = cv2.GaussianBlur(image, (blur,blur), 0)\n",
    "    \n",
    "    # Extract edges\n",
    "    edges = cv2.Canny(image, min_value, max_value)\n",
    "    \n",
    "    # convert back to BGR so we can overlay the lines on the original image\n",
    "    image = cv2.merge((image, image, image))\n",
    "\n",
    "    # overlay the edges onto the original image\n",
    "    image2 = image.copy()\n",
    "    image2[edges == 255] = [0, 0, 255]  # turn edges to red\n",
    "    return image2\n",
    "    \n",
    "#     th3 = cv2.adaptiveThreshold(image,255,cv2.ADAPTIVE_THRESH_GAUSSIAN_C, cv2.THRESH_BINARY, 11, 2)\n",
    "#     return th3\n",
    "    # Do an invert binarize the image \n",
    "#    ret, mask = cv2.threshold(canny_edges, threshold, 255, cv2.THRESH_BINARY_INV)\n",
    "#     return mask"
   ]
  },
  {
   "cell_type": "code",
   "execution_count": 18,
   "metadata": {},
   "outputs": [],
   "source": [
    "def nothing(x):\n",
    "    pass"
   ]
  },
  {
   "cell_type": "code",
   "execution_count": 19,
   "metadata": {},
   "outputs": [],
   "source": [
    "# Initialize webcam, cap is the object provided by VideoCapture\n",
    "# It contains a boolean indicating if it was sucessful (ret)\n",
    "# It also contains the images collected from the webcam (frame)\n",
    "cap = cv2.VideoCapture(0)\n",
    "\n",
    "min_value = 0\n",
    "max_value = 0\n",
    "threshold = 0\n",
    "blur = 0\n",
    "\n",
    "ret, frame = cap.read()\n",
    "cv2.imshow('Live Sketcher-original', frame)\n",
    "cv2.imshow('Live Sketcher-modified', sketch(frame,0,0,0,0))\n",
    "cv2.createTrackbar('min_value','Live Sketcher-modified',0,500,nothing)\n",
    "cv2.createTrackbar('max_value','Live Sketcher-modified',0,500,nothing)\n",
    "cv2.createTrackbar('threshold','Live Sketcher-modified',0,255,nothing)\n",
    "cv2.createTrackbar('blur','Live Sketcher-modified',0,150,nothing)\n",
    "\n",
    "while True:\n",
    "    ret, frame = cap.read()\n",
    "    cv2.imshow('Live Sketcher-original', frame)\n",
    "    cv2.imshow('Live Sketcher-modified', sketch(frame, min_value, max_value, threshold, blur))\n",
    "    min_value = cv2.getTrackbarPos('min_value', 'Live Sketcher-modified')\n",
    "    max_value = cv2.getTrackbarPos('max_value', 'Live Sketcher-modified')\n",
    "    threshold = cv2.getTrackbarPos('threshold', 'Live Sketcher-modified')\n",
    "    blur = cv2.getTrackbarPos('blur', 'Live Sketcher-modified')\n",
    "\n",
    "    if cv2.waitKey(1) == 13: #13 is the Enter Key\n",
    "        break\n",
    "        \n",
    "# Release camera and close windows\n",
    "cap.release()\n",
    "cv2.destroyAllWindows()      "
   ]
  },
  {
   "cell_type": "code",
   "execution_count": null,
   "metadata": {},
   "outputs": [],
   "source": []
  }
 ],
 "metadata": {
  "kernelspec": {
   "display_name": "Python 3",
   "language": "python",
   "name": "python3"
  },
  "language_info": {
   "codemirror_mode": {
    "name": "ipython",
    "version": 3
   },
   "file_extension": ".py",
   "mimetype": "text/x-python",
   "name": "python",
   "nbconvert_exporter": "python",
   "pygments_lexer": "ipython3",
   "version": "3.7.6"
  }
 },
 "nbformat": 4,
 "nbformat_minor": 4
}
