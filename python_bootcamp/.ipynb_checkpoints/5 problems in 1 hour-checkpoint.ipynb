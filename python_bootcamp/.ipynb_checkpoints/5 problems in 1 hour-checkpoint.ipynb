{
 "cells": [
  {
   "cell_type": "markdown",
   "metadata": {},
   "source": [
    "# Five programming problems every Software Engineer should be able to solve in less than 1 hour\n",
    "http://www.shiftedup.com/2015/05/07/five-programming-problems-every-software-engineer-should-be-able-to-solve-in-less-than-1-hour"
   ]
  },
  {
   "cell_type": "markdown",
   "metadata": {},
   "source": [
    "# Problem 1\n",
    "Write three functions that compute the sum of the numbers in a given list using a for-loop, a while-loop, and recursion."
   ]
  },
  {
   "cell_type": "code",
   "execution_count": null,
   "metadata": {
    "collapsed": true
   },
   "outputs": [],
   "source": [
    "a = [1,2,3,4,5,6,7]\n",
    "\n",
    "def adding(x):\n",
    "    total = 0\n",
    "    \n",
    "    for i in x:\n",
    "        total += i\n",
    "    print(total)\n",
    "    \n",
    "    total = 0\n",
    "    i = 0\n",
    "    while i < len(x):\n",
    "        total += x[i]\n",
    "        i += 1\n",
    "    print(total)\n",
    "    \n",
    "    return\n",
    "\n",
    "adding(a)"
   ]
  },
  {
   "cell_type": "code",
   "execution_count": null,
   "metadata": {
    "collapsed": true
   },
   "outputs": [],
   "source": [
    "b = [1,2,3,4,5,6,7]\n",
    "\n",
    "def recur(lst,counter,total):\n",
    "    if counter == len(lst):\n",
    "        print(total)\n",
    "        return\n",
    "    else:\n",
    "        total += lst[counter]\n",
    "        counter += 1\n",
    "        return recur(lst,counter,total)\n",
    "\n",
    "recur(b,0,0)"
   ]
  },
  {
   "cell_type": "markdown",
   "metadata": {},
   "source": [
    "# Problem 2\n",
    "Write a function that combines two lists by alternatingly taking elements. For example: given the two lists [a, b, c] and [1, 2, 3], the function should return [a, 1, b, 2, c, 3]."
   ]
  },
  {
   "cell_type": "code",
   "execution_count": null,
   "metadata": {
    "collapsed": true
   },
   "outputs": [],
   "source": [
    "lst1=['a','b','c']\n",
    "lst2=[1,2,3]\n",
    "\n",
    "def combine(lst1,lst2):\n",
    "    lst = []\n",
    "    i = 0\n",
    "    while i < len(lst1):\n",
    "        lst.append(lst1[i])\n",
    "        lst.append(lst2[i])\n",
    "        i += 1\n",
    "    lst\n",
    "    print(lst)\n",
    "    return\n",
    "\n",
    "combine(lst1,lst2)"
   ]
  },
  {
   "cell_type": "markdown",
   "metadata": {},
   "source": [
    "# Problem 3\n",
    "Write a function that computes the list of the first 100 Fibonacci numbers. By definition, the first two numbers in the Fibonacci sequence are 0 and 1, and each subsequent number is the sum of the previous two. As an example, here are the first 10 Fibonnaci numbers: 0, 1, 1, 2, 3, 5, 8, 13, 21, and 34."
   ]
  },
  {
   "cell_type": "code",
   "execution_count": null,
   "metadata": {
    "collapsed": true
   },
   "outputs": [],
   "source": [
    "# fibonacci numbers 1-100\n",
    "def fibonacci(i):\n",
    "    k = 0\n",
    "    num0 = 0\n",
    "    num1 = 1\n",
    "\n",
    "    print(num0)\n",
    "    print(num1)\n",
    "    \n",
    "    while k < i:\n",
    "        next_num = num0 + num1\n",
    "        print(next_num)\n",
    "        num0 = num1\n",
    "        num1 = next_num\n",
    "        k += 1\n",
    "        \n",
    "fibonacci(98)"
   ]
  },
  {
   "cell_type": "code",
   "execution_count": null,
   "metadata": {
    "collapsed": true,
    "scrolled": true
   },
   "outputs": [],
   "source": [
    "# fibonacci numbers 1-100\n",
    "def fibonacci(i):\n",
    "    fib = [0,1]\n",
    "    k = 0\n",
    "    \n",
    "    while len(fib) < i:\n",
    "        next_num = fib[k] + fib[k+1]\n",
    "        fib.append(next_num)\n",
    "        k+=1\n",
    "    print(fib)\n",
    "        \n",
    "fibonacci(100)"
   ]
  },
  {
   "cell_type": "markdown",
   "metadata": {},
   "source": [
    "# Problem 4\n",
    "Write a function that given a list of non negative integers, arranges them such that they form the largest possible number. For example, given [50, 2, 1, 9], the largest formed number is 95021."
   ]
  },
  {
   "cell_type": "code",
   "execution_count": null,
   "metadata": {
    "collapsed": true
   },
   "outputs": [],
   "source": [
    "98750301291"
   ]
  },
  {
   "cell_type": "code",
   "execution_count": 7,
   "metadata": {},
   "outputs": [
    {
     "name": "stdout",
     "output_type": "stream",
     "text": [
      "lst: [17, 32, 91, 7, 46]\n",
      "lst: [32, 17, 91, 7, 46]\n",
      "lst: [32, 91, 17, 7, 46]\n",
      "lst: [32, 91, 7, 17, 46]\n",
      "lst: [32, 91, 7, 46, 17]\n",
      "lst: [91, 32, 7, 46, 17]\n",
      "lst: [91, 7, 32, 46, 17]\n",
      "lst: [91, 7, 46, 32, 17]\n",
      "lst: [91, 7, 46, 32, 17]\n",
      "lst: [91, 7, 46, 32, 17]\n",
      "lst: [91, 7, 46, 32, 17]\n",
      "lst: [91, 7, 46, 32, 17]\n",
      "before: 917463217\n",
      "after: 917463217\n",
      "iterations: 12\n"
     ]
    }
   ],
   "source": [
    "#this will search for the whole list 1x for i_dwn\n",
    "def list_sort(lst):\n",
    "    iterations = 0\n",
    "    \n",
    "    while 1:\n",
    "        i = 0\n",
    "        j = i+1\n",
    "\n",
    "        value_before = make_num(lst[:])\n",
    "\n",
    "        while j < len(lst):       \n",
    "            n0 = (int(str(lst[i]) + str(lst[j]))) \n",
    "            n1 = (int(str(lst[j]) + str(lst[i])))\n",
    "            print('lst:',lst)\n",
    " \n",
    "            if n0 < n1:\n",
    "                lst[i],lst[j] = lst[j],lst[i]\n",
    "            i+=1\n",
    "            j=i+1\n",
    "            iterations += 1\n",
    "\n",
    "        value_after = make_num(lst[:])\n",
    "\n",
    "        if value_before < value_after:\n",
    "            continue            \n",
    "        else:\n",
    "            print('before:',value_before)\n",
    "            print('after:',value_after)\n",
    "            print('iterations:',iterations)\n",
    "            break\n",
    "    return\n",
    "\n",
    "\n",
    "# function to print the list as a number\n",
    "def make_num(lst_sorted):\n",
    "    s_total = ''\n",
    "    for i in lst_sorted:\n",
    "        s_total += str(i)\n",
    "    return int(s_total)\n",
    "\n",
    "\n",
    "#lst = [5, 50, 56]\n",
    "lst = [17, 32, 91, 7, 46]\n",
    "\n",
    "# this calls the initial sort\n",
    "list_sort(lst)"
   ]
  },
  {
   "cell_type": "markdown",
   "metadata": {},
   "source": [
    "# Problem 5\n",
    "Write a program that outputs all possibilities to put + or - or nothing between the numbers 1, 2, ..., 9 (in this order) such that the result is always 100. For example: 1 + 2 + 34 – 5 + 67 – 8 + 9 = 100."
   ]
  },
  {
   "cell_type": "code",
   "execution_count": null,
   "metadata": {
    "collapsed": true
   },
   "outputs": [],
   "source": []
  }
 ],
 "metadata": {
  "kernelspec": {
   "display_name": "Python 3",
   "language": "python",
   "name": "python3"
  },
  "language_info": {
   "codemirror_mode": {
    "name": "ipython",
    "version": 3
   },
   "file_extension": ".py",
   "mimetype": "text/x-python",
   "name": "python",
   "nbconvert_exporter": "python",
   "pygments_lexer": "ipython3",
   "version": "3.5.3"
  }
 },
 "nbformat": 4,
 "nbformat_minor": 2
}
