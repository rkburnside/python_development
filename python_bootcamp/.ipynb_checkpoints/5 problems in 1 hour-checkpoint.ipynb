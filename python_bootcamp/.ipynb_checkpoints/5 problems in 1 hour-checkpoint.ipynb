{
 "cells": [
  {
   "cell_type": "markdown",
   "metadata": {},
   "source": [
    "# Five programming problems every Software Engineer should be able to solve in less than 1 hour\n",
    "http://www.shiftedup.com/2015/05/07/five-programming-problems-every-software-engineer-should-be-able-to-solve-in-less-than-1-hour"
   ]
  },
  {
   "cell_type": "markdown",
   "metadata": {},
   "source": [
    "# Problem 1\n",
    "Write three functions that compute the sum of the numbers in a given list using a for-loop, a while-loop, and recursion."
   ]
  },
  {
   "cell_type": "code",
   "execution_count": null,
   "metadata": {},
   "outputs": [],
   "source": [
    "a = [1,2,3,4,5,6,7]\n",
    "\n",
    "def adding(x):\n",
    "    total = 0\n",
    "    \n",
    "    for i in x:\n",
    "        total += i\n",
    "    print(total)\n",
    "    \n",
    "    total = 0\n",
    "    i = 0\n",
    "    while i < len(x):\n",
    "        total += x[i]\n",
    "        i += 1\n",
    "    print(total)\n",
    "    \n",
    "    return\n",
    "\n",
    "adding(a)"
   ]
  },
  {
   "cell_type": "code",
   "execution_count": null,
   "metadata": {},
   "outputs": [],
   "source": [
    "b = [1,2,3,4,5,6,7]\n",
    "\n",
    "def recur(lst,counter,total):\n",
    "    if counter == len(lst):\n",
    "        print(total)\n",
    "        return\n",
    "    else:\n",
    "        total += lst[counter]\n",
    "        counter += 1\n",
    "        return recur(lst,counter,total)\n",
    "\n",
    "recur(b,0,0)"
   ]
  },
  {
   "cell_type": "markdown",
   "metadata": {},
   "source": [
    "# Problem 2\n",
    "Write a function that combines two lists by alternatingly taking elements. For example: given the two lists [a, b, c] and [1, 2, 3], the function should return [a, 1, b, 2, c, 3]."
   ]
  },
  {
   "cell_type": "code",
   "execution_count": null,
   "metadata": {},
   "outputs": [],
   "source": [
    "lst1=['a','b','c']\n",
    "lst2=[1,2,3]\n",
    "\n",
    "def combine(lst1,lst2):\n",
    "    lst = []\n",
    "    i = 0\n",
    "    while i < len(lst1):\n",
    "        lst.append(lst1[i])\n",
    "        lst.append(lst2[i])\n",
    "        i += 1\n",
    "    lst\n",
    "    print(lst)\n",
    "    return\n",
    "\n",
    "combine(lst1,lst2)"
   ]
  },
  {
   "cell_type": "markdown",
   "metadata": {},
   "source": [
    "# Problem 3\n",
    "Write a function that computes the list of the first 100 Fibonacci numbers. By definition, the first two numbers in the Fibonacci sequence are 0 and 1, and each subsequent number is the sum of the previous two. As an example, here are the first 10 Fibonnaci numbers: 0, 1, 1, 2, 3, 5, 8, 13, 21, and 34."
   ]
  },
  {
   "cell_type": "code",
   "execution_count": null,
   "metadata": {},
   "outputs": [],
   "source": [
    "# fibonacci numbers 1-100\n",
    "def fibonacci(i):\n",
    "    k = 0\n",
    "    num0 = 0\n",
    "    num1 = 1\n",
    "\n",
    "    print(num0)\n",
    "    print(num1)\n",
    "    \n",
    "    while k < i:\n",
    "        next_num = num0 + num1\n",
    "        print(next_num)\n",
    "        num0 = num1\n",
    "        num1 = next_num\n",
    "        k += 1\n",
    "        \n",
    "fibonacci(98)"
   ]
  },
  {
   "cell_type": "code",
   "execution_count": null,
   "metadata": {
    "scrolled": true
   },
   "outputs": [],
   "source": [
    "# fibonacci numbers 1-100\n",
    "def fibonacci(i):\n",
    "    fib = [0,1]\n",
    "    k = 0\n",
    "    \n",
    "    while len(fib) < i:\n",
    "        next_num = fib[k] + fib[k+1]\n",
    "        fib.append(next_num)\n",
    "        k+=1\n",
    "    print(fib)\n",
    "        \n",
    "fibonacci(100)"
   ]
  },
  {
   "cell_type": "markdown",
   "metadata": {},
   "source": [
    "# Problem 4\n",
    "Write a function that given a list of non negative integers, arranges them such that they form the largest possible number. For example, given [50, 2, 1, 9], the largest formed number is 95021."
   ]
  },
  {
   "cell_type": "code",
   "execution_count": null,
   "metadata": {
    "collapsed": true
   },
   "outputs": [],
   "source": [
    "98750301291"
   ]
  },
  {
   "cell_type": "code",
   "execution_count": 35,
   "metadata": {},
   "outputs": [
    {
     "name": "stdout",
     "output_type": "stream",
     "text": [
      "lst: [50, 8, 7, 29, 301, 3810, 9, 992, 1, 90]\n",
      "lst: [8, 50, 7, 29, 301, 3810, 9, 992, 1, 90]\n",
      "lst: [8, 7, 50, 29, 301, 3810, 9, 992, 1, 90]\n",
      "lst: [8, 7, 50, 29, 301, 3810, 9, 992, 1, 90]\n",
      "lst: [8, 7, 50, 301, 29, 3810, 9, 992, 1, 90]\n",
      "lst: [8, 7, 50, 301, 3810, 29, 9, 992, 1, 90]\n",
      "lst: [8, 7, 50, 301, 3810, 9, 29, 992, 1, 90]\n",
      "lst: [8, 7, 50, 301, 3810, 9, 992, 29, 1, 90]\n",
      "lst: [8, 7, 50, 301, 3810, 9, 992, 29, 1, 90]\n",
      "lst: [8, 7, 50, 301, 3810, 9, 992, 29, 90, 1]\n",
      "lst: [8, 7, 50, 301, 3810, 9, 992, 29, 90, 1]\n",
      "lst: [8, 7, 50, 301, 3810, 9, 992, 29, 90, 1]\n",
      "lst: [8, 7, 50, 301, 3810, 9, 992, 29, 90, 1]\n",
      "lst: [8, 7, 50, 3810, 301, 9, 992, 29, 90, 1]\n",
      "lst: [8, 7, 50, 3810, 9, 301, 992, 29, 90, 1]\n",
      "lst: [8, 7, 50, 3810, 9, 992, 301, 29, 90, 1]\n",
      "lst: [8, 7, 50, 3810, 9, 992, 301, 29, 90, 1]\n",
      "lst: [8, 7, 50, 3810, 9, 992, 301, 90, 29, 1]\n",
      "lst: [8, 7, 50, 3810, 9, 992, 301, 90, 29, 1]\n",
      "lst: [8, 7, 50, 3810, 9, 992, 301, 90, 29, 1]\n",
      "lst: [8, 7, 50, 3810, 9, 992, 301, 90, 29, 1]\n",
      "lst: [8, 7, 50, 3810, 9, 992, 301, 90, 29, 1]\n",
      "lst: [8, 7, 50, 9, 3810, 992, 301, 90, 29, 1]\n",
      "lst: [8, 7, 50, 9, 992, 3810, 301, 90, 29, 1]\n",
      "lst: [8, 7, 50, 9, 992, 3810, 301, 90, 29, 1]\n",
      "lst: [8, 7, 50, 9, 992, 3810, 90, 301, 29, 1]\n",
      "lst: [8, 7, 50, 9, 992, 3810, 90, 301, 29, 1]\n",
      "lst: [8, 7, 50, 9, 992, 3810, 90, 301, 29, 1]\n",
      "lst: [8, 7, 50, 9, 992, 3810, 90, 301, 29, 1]\n",
      "lst: [8, 7, 50, 9, 992, 3810, 90, 301, 29, 1]\n",
      "lst: [8, 7, 9, 50, 992, 3810, 90, 301, 29, 1]\n",
      "lst: [8, 7, 9, 992, 50, 3810, 90, 301, 29, 1]\n",
      "lst: [8, 7, 9, 992, 50, 3810, 90, 301, 29, 1]\n",
      "lst: [8, 7, 9, 992, 50, 90, 3810, 301, 29, 1]\n",
      "lst: [8, 7, 9, 992, 50, 90, 3810, 301, 29, 1]\n",
      "lst: [8, 7, 9, 992, 50, 90, 3810, 301, 29, 1]\n",
      "lst: [8, 7, 9, 992, 50, 90, 3810, 301, 29, 1]\n",
      "lst: [8, 7, 9, 992, 50, 90, 3810, 301, 29, 1]\n",
      "lst: [8, 9, 7, 992, 50, 90, 3810, 301, 29, 1]\n",
      "lst: [8, 9, 992, 7, 50, 90, 3810, 301, 29, 1]\n",
      "lst: [8, 9, 992, 7, 50, 90, 3810, 301, 29, 1]\n",
      "lst: [8, 9, 992, 7, 90, 50, 3810, 301, 29, 1]\n",
      "lst: [8, 9, 992, 7, 90, 50, 3810, 301, 29, 1]\n",
      "lst: [8, 9, 992, 7, 90, 50, 3810, 301, 29, 1]\n",
      "lst: [8, 9, 992, 7, 90, 50, 3810, 301, 29, 1]\n",
      "lst: [8, 9, 992, 7, 90, 50, 3810, 301, 29, 1]\n",
      "lst: [9, 8, 992, 7, 90, 50, 3810, 301, 29, 1]\n",
      "lst: [9, 992, 8, 7, 90, 50, 3810, 301, 29, 1]\n",
      "lst: [9, 992, 8, 7, 90, 50, 3810, 301, 29, 1]\n",
      "lst: [9, 992, 8, 90, 7, 50, 3810, 301, 29, 1]\n",
      "lst: [9, 992, 8, 90, 7, 50, 3810, 301, 29, 1]\n",
      "lst: [9, 992, 8, 90, 7, 50, 3810, 301, 29, 1]\n",
      "lst: [9, 992, 8, 90, 7, 50, 3810, 301, 29, 1]\n",
      "lst: [9, 992, 8, 90, 7, 50, 3810, 301, 29, 1]\n",
      "lst: [9, 992, 8, 90, 7, 50, 3810, 301, 29, 1]\n",
      "lst: [9, 992, 8, 90, 7, 50, 3810, 301, 29, 1]\n",
      "lst: [9, 992, 8, 90, 7, 50, 3810, 301, 29, 1]\n",
      "lst: [9, 992, 90, 8, 7, 50, 3810, 301, 29, 1]\n",
      "lst: [9, 992, 90, 8, 7, 50, 3810, 301, 29, 1]\n",
      "lst: [9, 992, 90, 8, 7, 50, 3810, 301, 29, 1]\n",
      "lst: [9, 992, 90, 8, 7, 50, 3810, 301, 29, 1]\n",
      "lst: [9, 992, 90, 8, 7, 50, 3810, 301, 29, 1]\n",
      "lst: [9, 992, 90, 8, 7, 50, 3810, 301, 29, 1]\n",
      "lst: [9, 992, 90, 8, 7, 50, 3810, 301, 29, 1]\n",
      "lst: [9, 992, 90, 8, 7, 50, 3810, 301, 29, 1]\n",
      "lst: [9, 992, 90, 8, 7, 50, 3810, 301, 29, 1]\n",
      "lst: [9, 992, 90, 8, 7, 50, 3810, 301, 29, 1]\n",
      "lst: [9, 992, 90, 8, 7, 50, 3810, 301, 29, 1]\n",
      "lst: [9, 992, 90, 8, 7, 50, 3810, 301, 29, 1]\n",
      "lst: [9, 992, 90, 8, 7, 50, 3810, 301, 29, 1]\n",
      "lst: [9, 992, 90, 8, 7, 50, 3810, 301, 29, 1]\n",
      "lst: [9, 992, 90, 8, 7, 50, 3810, 301, 29, 1]\n",
      "before: 99929087503810301291\n",
      "after: 99929087503810301291\n",
      "iterations: 72\n"
     ]
    }
   ],
   "source": [
    "#this will search for the whole list 1x for i_dwn\n",
    "def list_sort(lst):\n",
    "    change = 1\n",
    "    lst_inital = lst[:]\n",
    "    iterations = 0\n",
    "    \n",
    "    while change == 1:\n",
    "        i = 0\n",
    "        j = i+1\n",
    "\n",
    "        value_before = make_num(lst[:])\n",
    "\n",
    "        while j < len(lst):       \n",
    "            n0 = (int(str(lst[i]) + str(lst[j]))) \n",
    "            n1 = (int(str(lst[j]) + str(lst[i])))\n",
    "            print('lst:',lst)\n",
    " \n",
    "            if n0 < n1:\n",
    "                lst[i],lst[j] = lst[j],lst[i]\n",
    "            i+=1\n",
    "            j=i+1\n",
    "            iterations += 1\n",
    "\n",
    "        value_after = make_num(lst[:])\n",
    "\n",
    "        if value_before < value_after:\n",
    "            #print('True')\n",
    "            #print('before:',value_before)\n",
    "            #print('after:',value_after)\n",
    "            #print('iterations:',iterations)\n",
    "            change = 1\n",
    "        else:\n",
    "            print('before:',value_before)\n",
    "            print('after:',value_after)\n",
    "            print('iterations:',iterations)\n",
    "            change = 0\n",
    "    return\n",
    "\n",
    "\n",
    "# function to print the list as a number\n",
    "def make_num(lst_sorted):\n",
    "    s_total = ''\n",
    "    for i in lst_sorted:\n",
    "        s_total += str(i)\n",
    "    return int(s_total)\n",
    "\n",
    "\n",
    "#lst = [5, 50, 56]\n",
    "lst = [50, 8, 7, 29, 301, 3810, 9, 992, 1, 90]\n",
    "\n",
    "# this calls the initial sort\n",
    "list_sort(lst)"
   ]
  },
  {
   "cell_type": "markdown",
   "metadata": {},
   "source": [
    "# Problem 5\n",
    "Write a program that outputs all possibilities to put + or - or nothing between the numbers 1, 2, ..., 9 (in this order) such that the result is always 100. For example: 1 + 2 + 34 – 5 + 67 – 8 + 9 = 100."
   ]
  }
 ],
 "metadata": {
  "kernelspec": {
   "display_name": "Python 3",
   "language": "python",
   "name": "python3"
  },
  "language_info": {
   "codemirror_mode": {
    "name": "ipython",
    "version": 3
   },
   "file_extension": ".py",
   "mimetype": "text/x-python",
   "name": "python",
   "nbconvert_exporter": "python",
   "pygments_lexer": "ipython3",
   "version": "3.6.1"
  }
 },
 "nbformat": 4,
 "nbformat_minor": 2
}
