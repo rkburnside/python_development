{
 "cells": [
  {
   "cell_type": "markdown",
   "metadata": {},
   "source": [
    "# [2017-05-10] Challenge #314 [Intermediate] Comparing Rotated Words\n",
    "## Description\n",
    "We've explored the concept of string rotations before as garland words. Mathematically we can define them as a string `s = uv` is said to be a rotation of `t` if `t = vu`. For example, the string `0011001` is a rotation of `0100110`, where `u = 00110` and `v = 01`.\n",
    "\n",
    "Today we're interested in lexicographically minimal string rotation or lexicographically least circular substring, the problem of finding the rotation of a string possessing the lowest lexicographical order of all such rotations. Finding the lexicographically minimal rotation is useful as a way of normalizing strings.\n",
    "## Input Description\n",
    "You'll be given strings, one per line.\n",
    "```\n",
    "Example: aabbccddbbaabb\n",
    "```\n",
    "## Output Description\n",
    "Your program should solve the lexicographically minimal string rotation and produce the size of the substring to move and the resulting string.\n",
    "```\n",
    "Example: aabbaabbccddbb\n",
    "```\n",
    "Which is, in Python parlance:\n",
    "```\n",
    "\"aabbccddbbaabb\"[10:] + \"aabbccddbbaabb\"[:10]\n",
    "```\n",
    "## Challenge Input\n",
    "```\n",
    "onion\n",
    "bbaaccaadd\n",
    "alfalfa\n",
    "weugweougewoiheew\n",
    "pneumonoultramicroscopicsilicovolcanoconiosis\n",
    "```\n",
    "\n",
    "## Challenge Output\n",
    "\n",
    "```\n",
    "2 ionon\n",
    "2 aaccaaddbb\n",
    "6 aalfalf\n",
    "14 eewweugweougewoih\n",
    "12 amicroscopicsilicovolcanoconiosispneumonoultr\n",
    "```"
   ]
  },
  {
   "cell_type": "code",
   "execution_count": 1,
   "metadata": {},
   "outputs": [
    {
     "data": {
      "text/plain": [
       "'aabbaabbccddbb'"
      ]
     },
     "execution_count": 1,
     "metadata": {},
     "output_type": "execute_result"
    }
   ],
   "source": [
    "\"aabbccddbbaabb\"[10:] + \"aabbccddbbaabb\"[:10]"
   ]
  },
  {
   "cell_type": "code",
   "execution_count": null,
   "metadata": {
    "collapsed": true
   },
   "outputs": [],
   "source": []
  }
 ],
 "metadata": {
  "kernelspec": {
   "display_name": "Python 3",
   "language": "python",
   "name": "python3"
  },
  "language_info": {
   "codemirror_mode": {
    "name": "ipython",
    "version": 3
   },
   "file_extension": ".py",
   "mimetype": "text/x-python",
   "name": "python",
   "nbconvert_exporter": "python",
   "pygments_lexer": "ipython3",
   "version": "3.5.3"
  }
 },
 "nbformat": 4,
 "nbformat_minor": 2
}
