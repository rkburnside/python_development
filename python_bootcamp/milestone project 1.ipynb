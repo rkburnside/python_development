{
 "cells": [
  {
   "cell_type": "markdown",
   "metadata": {},
   "source": [
    "# Python Milestone Project #1 - Tic Tac Toe"
   ]
  },
  {
   "cell_type": "markdown",
   "metadata": {},
   "source": [
    "how to do this\n",
    "- create a function that prints the board, this should include a grid function that allows selecting a location\n",
    "  - this needs to handle when x's and o's are placed in board\n",
    "- create a function that allows selecting the location\n",
    "- create a function that determines when someone has won\n",
    "- create a function that gets user input"
   ]
  },
  {
   "cell_type": "markdown",
   "metadata": {},
   "source": [
    "# function that will print the board\n",
    "```\n",
    "the board should look like this:\n",
    "\n",
    "empty board\n",
    "   |   |  \n",
    "-----------\n",
    "   |   |  \n",
    "-----------\n",
    "   |   |  \n",
    "\n",
    "full board    \n",
    " x | o | x\n",
    "-----------\n",
    " x | o | x\n",
    "-----------\n",
    " x | o | x\n",
    "\n",
    "```"
   ]
  },
  {
   "cell_type": "code",
   "execution_count": null,
   "metadata": {},
   "outputs": [
    {
     "name": "stdout",
     "output_type": "stream",
     "text": [
      "\n",
      "\n",
      "TIC TAC TOE\n",
      "\n",
      "\n",
      "   | 1 | 2 | 3 |\n",
      "----------------\n",
      " A | X | X |   |\n",
      "----------------\n",
      " B |   | O |   |\n",
      "----------------\n",
      " C |   | O |   |\n",
      "----------------\n",
      "\n",
      "\n",
      "Player 'O' - select a location (i.e. C2): A2\n",
      "\n",
      "\n",
      "Congratulations! You Won!\n",
      "\n",
      "\n"
     ]
    }
   ],
   "source": [
    "def print_board(board):\n",
    "    clear_output()\n",
    "    horizontal = '----------------'\n",
    "    print('\\n\\nTIC TAC TOE\\n\\n')\n",
    "    print('   | 1 | 2 | 3 |')\n",
    "    print(horizontal)\n",
    "    print(' A |',board['A1'],'|',board['A2'],'|',board['A3'],'|')\n",
    "    print(horizontal)\n",
    "    print(' B |',board['B1'],'|',board['B2'],'|',board['B3'],'|')\n",
    "    print(horizontal)\n",
    "    print(' C |',board['C1'],'|',board['C2'],'|',board['C3'],'|')\n",
    "    print(horizontal)\n",
    "    \n",
    "    return\n",
    "\n",
    "\n",
    "def input_verification(location):\n",
    "    #strip it of white spaces\n",
    "    location = location.replace(\" \", \"\")\n",
    "    if len(location) != 3:\n",
    "        print('invalid input - more than 2 characters')\n",
    "    pass\n",
    "\n",
    "\n",
    "def check_for_win(board):\n",
    "    #horizontal winning combinations\n",
    "    if board['A1'] == board['A2'] and board['A2'] == board['A3'] and board['A1'] != ' ' and board['A2'] != ' ' and board['A3'] != ' ':\n",
    "        return 1\n",
    "    elif board['B1'] == board['B2'] and board['B2'] == board['B3'] and board['B1'] != ' ' and board['B2'] != ' ' and board['B3'] != ' ':\n",
    "        return 1\n",
    "    elif board['C1'] == board['C2'] and board['C2'] == board['C3'] and board['C1'] != ' ' and board['C2'] != ' ' and board['C3'] != ' ':\n",
    "        return 1\n",
    "\n",
    "    #vertical winning combinations\n",
    "    elif board['A1'] == board['B1'] and board['B1'] == board['C1'] and board['A1'] != ' ' and board['B1'] != ' ' and board['C1'] != ' ':\n",
    "        return 1\n",
    "    elif board['A2'] == board['B2'] and board['B2'] == board['C2'] and board['A2'] != ' ' and board['B2'] != ' ' and board['C2'] != ' ':\n",
    "        return 1\n",
    "    elif board['A3'] == board['B3'] and board['B3'] == board['C3'] and board['A3'] != ' ' and board['B3'] != ' ' and board['C3'] != ' ':\n",
    "        return 1\n",
    "\n",
    "    #diagnol winning combinations\n",
    "    elif board['A1'] == board['B2'] and board['B2'] == board['C3'] and board['A1'] != ' ' and board['B2'] != ' ' and board['C3'] != ' ':\n",
    "        return 1\n",
    "    elif board['C1'] == board['B2'] and board['B2'] == board['A3'] and board['C1'] != ' ' and board['B2'] != ' ' and board['A3'] != ' ':\n",
    "        return 1\n",
    "\n",
    "    #no winners found\n",
    "    else:\n",
    "        return 0\n",
    "\n",
    "\n",
    "def location_x(board):\n",
    "    location = input('\\n\\nPlayer \\'X\\' - select a location (i.e. C2): ')\n",
    "    for i in board:\n",
    "        if str(i) == location:\n",
    "            board[i] = 'X'\n",
    "    return board\n",
    " \n",
    "    \n",
    "def location_o(board):\n",
    "    location = input('\\n\\nPlayer \\'O\\' - select a location (i.e. C2): ')\n",
    "    for i in board:\n",
    "        if str(i) == location:\n",
    "            board[i] = 'O'\n",
    "    return board\n",
    "\n",
    "        \n",
    "def quit_playing():\n",
    "    print('\\n\\nCongratulations! You Won!\\n\\n')\n",
    "    quit = input('Quit playing? (Y/N): ')\n",
    "\n",
    "    if quit == 'Y':\n",
    "        return 1\n",
    "    else:\n",
    "        return 0      \n",
    "\n",
    "\n",
    "# ---MAIN BODY OF THE GAME---\n",
    "from IPython.display import clear_output\n",
    "from time import sleep\n",
    "\n",
    "# board = {'key1':'value1','key2':'value2'}\n",
    "board = {'A1':' ','A2':' ','A3':' ','B1':' ','B2':' ','B3':' ','C1':' ','C2':' ','C3':' '}\n",
    "\n",
    "quit = 'N'\n",
    "while quit == 'N':\n",
    "    print_board(board)\n",
    "    sleep(.5)\n",
    "    board = location_x(board)\n",
    "\n",
    "    if check_for_win(board) == 1:\n",
    "        if quit_playing() == 1:\n",
    "            break\n",
    "        else:\n",
    "            # reinitialize the board\n",
    "            board = {'A1':' ','A2':' ','A3':' ','B1':' ','B2':' ','B3':' ','C1':' ','C2':' ','C3':' '}\n",
    "            continue\n",
    "\n",
    "    print_board(board)\n",
    "    sleep(.5)\n",
    "    board = location_o(board)\n",
    "\n",
    "    if check_for_win(board) == 1:\n",
    "        if quit_playing() == 1:\n",
    "            break\n",
    "        else:\n",
    "            # reinitialize the board\n",
    "            board = {'A1':' ','A2':' ','A3':' ','B1':' ','B2':' ','B3':' ','C1':' ','C2':' ','C3':' '}\n",
    "            continue"
   ]
  },
  {
   "cell_type": "code",
   "execution_count": null,
   "metadata": {
    "collapsed": true
   },
   "outputs": [],
   "source": []
  },
  {
   "cell_type": "code",
   "execution_count": null,
   "metadata": {
    "collapsed": true
   },
   "outputs": [],
   "source": []
  },
  {
   "cell_type": "code",
   "execution_count": null,
   "metadata": {
    "collapsed": true
   },
   "outputs": [],
   "source": []
  },
  {
   "cell_type": "code",
   "execution_count": null,
   "metadata": {
    "collapsed": true
   },
   "outputs": [],
   "source": []
  },
  {
   "cell_type": "code",
   "execution_count": null,
   "metadata": {
    "collapsed": true
   },
   "outputs": [],
   "source": []
  },
  {
   "cell_type": "code",
   "execution_count": null,
   "metadata": {
    "collapsed": true
   },
   "outputs": [],
   "source": []
  },
  {
   "cell_type": "code",
   "execution_count": null,
   "metadata": {
    "collapsed": true
   },
   "outputs": [],
   "source": []
  },
  {
   "cell_type": "code",
   "execution_count": null,
   "metadata": {
    "collapsed": true
   },
   "outputs": [],
   "source": []
  },
  {
   "cell_type": "code",
   "execution_count": null,
   "metadata": {
    "collapsed": true
   },
   "outputs": [],
   "source": []
  }
 ],
 "metadata": {
  "kernelspec": {
   "display_name": "Python 3",
   "language": "python",
   "name": "python3"
  },
  "language_info": {
   "codemirror_mode": {
    "name": "ipython",
    "version": 3
   },
   "file_extension": ".py",
   "mimetype": "text/x-python",
   "name": "python",
   "nbconvert_exporter": "python",
   "pygments_lexer": "ipython3",
   "version": "3.6.1"
  }
 },
 "nbformat": 4,
 "nbformat_minor": 2
}
