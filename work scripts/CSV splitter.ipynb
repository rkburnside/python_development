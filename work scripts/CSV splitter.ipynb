{
 "cells": [
  {
   "cell_type": "markdown",
   "metadata": {},
   "source": [
    "## this script will parse a CSV file into ~x number of lines and then create a new file"
   ]
  },
  {
   "cell_type": "markdown",
   "metadata": {},
   "source": [
    "# development path forward\n",
    "## open\n",
    "- ask for the file name\n",
    "- ask for how many lines to break it into\n",
    "- write/append data to a file and close it when finished\n",
    "- everytime the loop count hits 900k, close existing file, open new file, keep appending, add the first few lines \n",
    "\n",
    "## closed\n",
    "- determine how many lines it has\n",
    "- open a new file, append lines, close it"
   ]
  },
  {
   "cell_type": "code",
   "execution_count": 9,
   "metadata": {},
   "outputs": [],
   "source": [
    "line_limit = 900000\n",
    "filename = 'telem_diagnostic_0500Hz_unit1_04_13_20__08_19' # input the file name to be spite\n",
    "file_counter = 0"
   ]
  },
  {
   "cell_type": "code",
   "execution_count": 10,
   "metadata": {},
   "outputs": [],
   "source": [
    "# this function will initialize the headers for a file\n",
    "\n",
    "def initialize_file(file_counter):\n",
    "    header_lines = 4\n",
    "    \n",
    "    # get the current position of the read file, open a new file, create headers, go back \n",
    "    lastposition = f.tell()\n",
    "    o = open(filename + ' - ' + str(file_counter) + '.csv', 'w') # open in write mode\n",
    "    \n",
    "    f.seek(0)\n",
    "    for i in range(header_lines):\n",
    "        o.write(f.readline())\n",
    "    \n",
    "    f.seek(lastposition)\n",
    "    \n",
    "    return o"
   ]
  },
  {
   "cell_type": "code",
   "execution_count": 11,
   "metadata": {},
   "outputs": [],
   "source": [
    "# this function allows the file to be cut up and return to it's previous locaiton\n",
    "\n",
    "def file_size(f):\n",
    "    # get the current file position, get the number of lines in the file, reset its position\n",
    "    lastposition = f.tell()\n",
    "    f.seek(0)\n",
    "    x = int(len(f.readlines()))\n",
    "    f.seek(lastposition)\n",
    "\n",
    "    return x"
   ]
  },
  {
   "cell_type": "code",
   "execution_count": 12,
   "metadata": {},
   "outputs": [
    {
     "name": "stdout",
     "output_type": "stream",
     "text": [
      "0\n",
      "new file\n",
      "new file\n",
      "done\n"
     ]
    }
   ],
   "source": [
    "# main loop for processing the files\n",
    "f = open(filename + '.csv', 'r')  # open and read file\n",
    "o = initialize_file(file_counter) # initialize the output file with headers\n",
    "o.seek(0) # resets the file location to 0\n",
    "x = file_size(f) # gets the range for the loop below\n",
    "\n",
    "# this loop cuts up the file to the line limit number\n",
    "for i in range(x):\n",
    "    if i < (line_limit * (file_counter+1)):\n",
    "        o.write(f.readline())\n",
    "    else:\n",
    "        o.close()\n",
    "        file_counter += 1\n",
    "        o = initialize_file(file_counter)\n",
    "        print('new file')\n",
    "\n",
    "f.close()\n",
    "o.close()\n",
    "\n",
    "print('done')"
   ]
  },
  {
   "cell_type": "code",
   "execution_count": null,
   "metadata": {},
   "outputs": [],
   "source": []
  }
 ],
 "metadata": {
  "kernelspec": {
   "display_name": "Python 3",
   "language": "python",
   "name": "python3"
  },
  "language_info": {
   "codemirror_mode": {
    "name": "ipython",
    "version": 3
   },
   "file_extension": ".py",
   "mimetype": "text/x-python",
   "name": "python",
   "nbconvert_exporter": "python",
   "pygments_lexer": "ipython3",
   "version": "3.7.0"
  }
 },
 "nbformat": 4,
 "nbformat_minor": 2
}
