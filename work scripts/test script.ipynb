{
 "cells": [
  {
   "cell_type": "code",
   "execution_count": 1,
   "metadata": {},
   "outputs": [],
   "source": [
    "import datetime\n",
    "import xml.etree.ElementTree as ET\n",
    "\n",
    "# test data\n",
    "atp = 'ATP.xml'\n",
    "confidence = 'Confidence.xml'"
   ]
  },
  {
   "cell_type": "code",
   "execution_count": 102,
   "metadata": {},
   "outputs": [],
   "source": [
    "# this function parses all of the data\n",
    "def data_extraction(root):\n",
    "    step = 0\n",
    "    axis = 0\n",
    "    parameter = 0\n",
    "\n",
    "    try:\n",
    "        for step in range(15):\n",
    "            try:\n",
    "                for axis in range(4):\n",
    "                    try:\n",
    "                        for parameter in range(7):\n",
    "                            data_line = root[1].text + ',' + root[3][step][axis].tag + ',' + root[3][step][axis][parameter].attrib['name'] + ',' + root[3][step][axis][parameter].text + ',' + root[3][step].attrib['name'][:-3:]\n",
    "                            print(data_line)\n",
    "                    except:\n",
    "                        continue\n",
    "            except:\n",
    "                continue\n",
    "    except:\n",
    "        print('loop failed')\n",
    "    \n",
    "    return"
   ]
  },
  {
   "cell_type": "code",
   "execution_count": 103,
   "metadata": {},
   "outputs": [
    {
     "name": "stdout",
     "output_type": "stream",
     "text": [
      "10128,Axis1,Edge1 Slew Rate,467.9,Unloaded Slew Rate (+)\n",
      "10128,Axis2,Edge1 Slew Rate,491.7,Unloaded Slew Rate (+)\n",
      "10128,Axis3,Edge1 Slew Rate,494.5,Unloaded Slew Rate (+)\n",
      "10128,Axis4,Edge1 Slew Rate,466.9,Unloaded Slew Rate (+)\n",
      "10128,Axis1,Edge1 Slew Rate,493.5,Unloaded Slew Rate (-)\n",
      "10128,Axis2,Edge1 Slew Rate,471.4,Unloaded Slew Rate (-)\n",
      "10128,Axis3,Edge1 Slew Rate,470.3,Unloaded Slew Rate (-)\n",
      "10128,Axis4,Edge1 Slew Rate,491.8,Unloaded Slew Rate (-)\n",
      "10128,Axis1,Backlash,0.231,Backlash & Stiffness\n",
      "10128,Axis1,Positive Stiffness,196.3,Backlash & Stiffness\n",
      "10128,Axis1,Negative Stiffness,264.4,Backlash & Stiffness\n",
      "10128,Axis2,Backlash,0.188,Backlash & Stiffness\n",
      "10128,Axis2,Positive Stiffness,228.7,Backlash & Stiffness\n",
      "10128,Axis2,Negative Stiffness,183.0,Backlash & Stiffness\n",
      "10128,Axis3,Backlash,0.055,Backlash & Stiffness\n",
      "10128,Axis3,Positive Stiffness,250.7,Backlash & Stiffness\n",
      "10128,Axis3,Negative Stiffness,214.8,Backlash & Stiffness\n",
      "10128,Axis4,Backlash,0.083,Backlash & Stiffness\n",
      "10128,Axis4,Positive Stiffness,233.4,Backlash & Stiffness\n",
      "10128,Axis4,Negative Stiffness,228.0,Backlash & Stiffness\n",
      "10128,Axis1,Edge1 Slew Rate,360.0,Loaded Slew Rate (+)\n",
      "10128,Axis2,Edge1 Slew Rate,364.7,Loaded Slew Rate (+)\n",
      "10128,Axis3,Edge1 Slew Rate,364.5,Loaded Slew Rate (+)\n",
      "10128,Axis4,Edge1 Slew Rate,359.0,Loaded Slew Rate (+)\n",
      "10128,Axis1,Edge1 Slew Rate,363.2,Loaded Slew Rate (-)\n",
      "10128,Axis2,Edge1 Slew Rate,363.5,Loaded Slew Rate (-)\n",
      "10128,Axis3,Edge1 Slew Rate,363.3,Loaded Slew Rate (-)\n",
      "10128,Axis4,Edge1 Slew Rate,365.6,Loaded Slew Rate (-)\n",
      "10128,Axis1,Stall Torque,174.39,Stall Torque (+)\n",
      "10128,Axis2,Stall Torque,154.64,Stall Torque (+)\n",
      "10128,Axis3,Stall Torque,147.53,Stall Torque (+)\n",
      "10128,Axis4,Stall Torque,164.93,Stall Torque (+)\n",
      "10128,Axis1,Stall Torque,150.69,Stall Torque (-)\n",
      "10128,Axis2,Stall Torque,171.23,Stall Torque (-)\n",
      "10128,Axis3,Stall Torque,171.69,Stall Torque (-)\n",
      "10128,Axis4,Stall Torque,156.56,Stall Torque (-)\n",
      "finished!\n"
     ]
    }
   ],
   "source": [
    "root = ET.parse(atp).getroot()\n",
    "data_extraction(root)\n",
    "\n",
    "print('finished!')"
   ]
  },
  {
   "cell_type": "code",
   "execution_count": 7,
   "metadata": {},
   "outputs": [
    {
     "data": {
      "text/plain": [
       "<Element 'Result' at 0x0000019DD455BF48>"
      ]
     },
     "execution_count": 7,
     "metadata": {},
     "output_type": "execute_result"
    }
   ],
   "source": [
    "root.\n",
    "root[2]"
   ]
  },
  {
   "cell_type": "code",
   "execution_count": 93,
   "metadata": {},
   "outputs": [
    {
     "name": "stdout",
     "output_type": "stream",
     "text": [
      "Unloaded Slew Rate (+) v1 Pass\n"
     ]
    }
   ],
   "source": [
    "x = root[3][1].attrib\n",
    "print(x['name'], x['result'])"
   ]
  },
  {
   "cell_type": "code",
   "execution_count": 97,
   "metadata": {},
   "outputs": [
    {
     "data": {
      "text/plain": [
       "'Unloaded Slew Rate (+)'"
      ]
     },
     "execution_count": 97,
     "metadata": {},
     "output_type": "execute_result"
    }
   ],
   "source": [
    "root[3][1].attrib['name'][:-3:]"
   ]
  },
  {
   "cell_type": "code",
   "execution_count": 52,
   "metadata": {},
   "outputs": [],
   "source": [
    "data_line = '2020-01-10 07:21:31,00013,Unloaded Slew Rate (+),Axis1,Edge1 Slew Rate,471.7'\n",
    "y = '2020-01-10 07:21:31,00013,Unloaded Slew Rate (+) v1,Axis2,Edge1 Slew Rate,511.4'\n",
    "z = '2020-01-10 07:21:31,00013,Unloaded Slew Rate (+) v1,Axis3,Edge1 Slew Rate,486.4'\n",
    "\n",
    "x = data_line.split(',')\n",
    "data_line = ','"
   ]
  },
  {
   "cell_type": "code",
   "execution_count": 55,
   "metadata": {},
   "outputs": [
    {
     "data": {
      "text/plain": [
       "'Unloaded Slew Rate +'"
      ]
     },
     "execution_count": 55,
     "metadata": {},
     "output_type": "execute_result"
    }
   ],
   "source": [
    "x[2][:-3:] + '+'"
   ]
  },
  {
   "cell_type": "code",
   "execution_count": 41,
   "metadata": {},
   "outputs": [
    {
     "data": {
      "text/plain": [
       "'a'"
      ]
     },
     "execution_count": 41,
     "metadata": {},
     "output_type": "execute_result"
    }
   ],
   "source": [
    "splitter = ','\n",
    "z = y.split(',')\n",
    "z[2][4]"
   ]
  },
  {
   "cell_type": "code",
   "execution_count": 56,
   "metadata": {},
   "outputs": [
    {
     "data": {
      "text/plain": [
       "['2020-01-10 07:21:31',\n",
       " '00013',\n",
       " 'Unloaded Slew Rate (+) v1',\n",
       " 'Axis1',\n",
       " 'Edge1 Slew Rate',\n",
       " '471.7']"
      ]
     },
     "execution_count": 56,
     "metadata": {},
     "output_type": "execute_result"
    }
   ],
   "source": [
    "a"
   ]
  },
  {
   "cell_type": "code",
   "execution_count": 58,
   "metadata": {},
   "outputs": [
    {
     "data": {
      "text/plain": [
       "'Axis1'"
      ]
     },
     "execution_count": 58,
     "metadata": {},
     "output_type": "execute_result"
    }
   ],
   "source": [
    "a.pop(3)"
   ]
  },
  {
   "cell_type": "code",
   "execution_count": 59,
   "metadata": {},
   "outputs": [
    {
     "data": {
      "text/plain": [
       "['2020-01-10 07:21:31',\n",
       " '00013',\n",
       " 'Unloaded Slew Rate (+) v1',\n",
       " 'Edge1 Slew Rate',\n",
       " '471.7']"
      ]
     },
     "execution_count": 59,
     "metadata": {},
     "output_type": "execute_result"
    }
   ],
   "source": [
    "a"
   ]
  },
  {
   "cell_type": "code",
   "execution_count": 29,
   "metadata": {},
   "outputs": [
    {
     "data": {
      "text/plain": [
       "'2020-01-10 07:21:31,v2,v1,00013,Unloaded Slew Rate (+) v1,Axis1,Edge1 Slew Rate,471.7'"
      ]
     },
     "execution_count": 29,
     "metadata": {},
     "output_type": "execute_result"
    }
   ],
   "source": [
    "b.join(a)"
   ]
  },
  {
   "cell_type": "code",
   "execution_count": 37,
   "metadata": {},
   "outputs": [
    {
     "name": "stdout",
     "output_type": "stream",
     "text": [
      "hello\n",
      "goodbye\n"
     ]
    }
   ],
   "source": [
    "c = ['hello','goodbye','crud','just a test']\n",
    "for i in c[:2]:\n",
    "    print(i)"
   ]
  },
  {
   "cell_type": "code",
   "execution_count": null,
   "metadata": {},
   "outputs": [],
   "source": []
  }
 ],
 "metadata": {
  "kernelspec": {
   "display_name": "Python 3",
   "language": "python",
   "name": "python3"
  },
  "language_info": {
   "codemirror_mode": {
    "name": "ipython",
    "version": 3
   },
   "file_extension": ".py",
   "mimetype": "text/x-python",
   "name": "python",
   "nbconvert_exporter": "python",
   "pygments_lexer": "ipython3",
   "version": "3.7.0"
  }
 },
 "nbformat": 4,
 "nbformat_minor": 2
}
